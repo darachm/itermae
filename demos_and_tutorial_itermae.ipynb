{
 "cells": [
  {
   "cell_type": "markdown",
   "metadata": {},
   "source": [
    "## Notebook of demos, tutorial\n",
    "\n",
    "This notebook is intended to give new users an idea of how `itermae` works to accomplish basic parsing, how to debug its usage, how to run it in parallel, and how to use multiple operations to do more complex parsing and filtering.\n",
    "\n",
    "1. Basic usage\n",
    "2. Debugging\n",
    "3. Parallel chopping\n",
    "4. Multiple operations"
   ]
  },
  {
   "cell_type": "markdown",
   "metadata": {},
   "source": [
    "### Basic usage\n",
    "\n",
    "`itermae` expects to have a FASTQ file piped into the standard input (STDIN) of the program, likely using the `|` character. If then applies one or more operations (denoted by `-o` or `--operation`) to each read. For each read where the operation was successful, it generates an output sequence record with a sequenced defined by the `-oseq` or `--output-seq` argument and a sequence ID defined by the `-oid` or `--output-id` argument. The output format is by default a SAM file.\n",
    "\n",
    "Here is a minimal example that does nothing interesting, just outputs the input in SAM format:"
   ]
  },
  {
   "cell_type": "code",
   "execution_count": 28,
   "metadata": {},
   "outputs": [
    {
     "name": "stdout",
     "output_type": "stream",
     "text": [
      "ExampleToyReads:1:exampleFlowCell:1:10000:10000:10000\t0\t*\t0\t255\t*\t=\t0\t0\tTTCACGTCCTCGAGGTCTCTTCAGTCGTAGCAGTTCGATGCGTACGCTACAGGTCGACGGTAAGAGAGGGATGTG\tAAAAAEEEA/<EAEEEEEEEEEEEEEEEEEEEEEEEEEEEEAEEEEEEEEEEEEEEEEEEEAEEEEEEEEEEEEE\tXI:0\n",
      "ExampleToyReads:1:exampleFlowCell:1:10000:10001:10001\t0\t*\t0\t255\t*\t=\t0\t0\tGCTTCGTCCTCGAGGTCTCTTGGCAGACACACGCTACACGTACGCTGCAGGTCGAGGGCACGCGAGAGATGTGTG\tAAAAAEEEE/AEAAEEEEEEEEEEEEEEEEEEEEEEEEEEEEEEEEEEEEEEEEEEEEEEEEEEEEEEEEEEEEE\tXI:0\n",
      "ExampleToyReads:1:exampleFlowCell:1:10000:10002:10002\t0\t*\t0\t255\t*\t=\t0\t0\tCCCGGCGTTCGGGGAAGGACGTCAATAGTCACACAGTCCTTGACGGTATAATAACCACCATCATGGCGACCATCC\tAAAAAA/A<E/<EEA6/EEE//EEE/EAEEEEEAEEEEEA/EEEEE/EEEEEE6EEEEAEEEEEEEEE/EEEEEA\tXI:0\n",
      "ExampleToyReads:1:exampleFlowCell:1:10000:10003:10003\t0\t*\t0\t255\t*\t=\t0\t0\tCTACTGTCCACGAGGTCTCTGATGCACTGCGTTCCATGTTCGTACGCTGCAGGTCGACGGAAGGAGCGCGATGTG\tAAAAAEEEE/AEEAEEEEEEEEEEEEEEEEEEEEEEEEEEEEEEEEEEEEEEEEEEEEEEEEEEEEEEEEEEEEE\tXI:0\n",
      "ExampleToyReads:1:exampleFlowCell:1:10000:10004:10004\t0\t*\t0\t255\t*\t=\t0\t0\tAAATTAGGGTCAACGCTACCTGTAGGAAGTGTCCGCATAAAGTGCACCGCATGGAAATGAAGACGGCCATTAGCT\tAAA/AE/AE/AA/E6EEEEEEA/EEEEEEE6EEEEE/EAEEEEEEAEEEEEEEEEEEE/E/E/E/EEAEEEEEEE\tXI:0\n",
      "ExampleToyReads:1:exampleFlowCell:1:10000:10005:10005\t0\t*\t0\t255\t*\t=\t0\t0\tCCCGGCGTTCGGGGAAGGACGTCAATAGTCACACAGTCCTTGACGGTATAATAACCACCATCATGGCGACCATCC\tAAAAAA/A<E/<EEA6/EEE//EEE/EAEEEEEAEEEEEA/EEEEE/EEEEEE6EEEEAEEEEEEEEE/EEEEEA\tXI:0\n",
      "ExampleToyReads:1:exampleFlowCell:1:10000:10006:10006\t0\t*\t0\t255\t*\t=\t0\t0\tTCGGCGTCCTCGAGGTCTCTATTCTGAGCGGTGCCATAGTCGTACGCTGCAGGTCGACCGAAGGTGGGAGATGTG\tAAAAAEEEA/AEEEEEEEEEEEEEEEEEEEEEEEEEEEEEEEEEEEEEEEEEEEEEEEEEEEEEEEEEAEEEEEE\tXI:0\n",
      "ExampleToyReads:1:exampleFlowCell:1:10000:10007:10007\t0\t*\t0\t255\t*\t=\t0\t0\tAGGAGGTCCTCGAGGTCTCTATAAGTTAGACAGGTCAGCCGTACGCTGCAGGTCGACAGCTGGCGCGCGATGTGA\tAAAAAEEEE/AEEEEEEEEEEEEEEEEEEEEEEEEEEEEEEEEEEEEEEEEEEEEEEEEEEEEEEEEEEEEEEEE\tXI:0\n",
      "ExampleToyReads:1:exampleFlowCell:1:10000:10008:10008\t0\t*\t0\t255\t*\t=\t0\t0\tACGTAGTCCACGAGGTCTCTCACACGCACGAATTTGCATACGTACGCTGCAGGTCGACTGGAAGGGCGGGATGTG\tAAAAAEEEA/AEEAEEEEEEEEEAEEEEEEEEEEEEAEEEEAEEEEEEEEEEEEEEEEEEEEEEE6EEEEEAAEA\tXI:0\n"
     ]
    }
   ],
   "source": [
    "cat example-data/toy.fastq | itermae -o \"input > .\" -oid \"input.id\" -oseq \"input\""
   ]
  },
  {
   "cell_type": "markdown",
   "metadata": {},
   "source": [
    "If the operation of output sequence definition is missing, then the program fails and tells you where it has a problem. You can omit the output ID and it will use the input ID by default. Example of failing:"
   ]
  },
  {
   "cell_type": "code",
   "execution_count": 34,
   "metadata": {},
   "outputs": [
    {
     "name": "stdout",
     "output_type": "stream",
     "text": [
      "Wait a second, I don't understand the operations to be done! Are there any? Maybe there's small part I'm choking on? Maybe try adding steps in one at a time in an interactive context with '--limit' set, to debug easier. Exiting...\n"
     ]
    },
    {
     "ename": "",
     "evalue": "1",
     "output_type": "error",
     "traceback": []
    }
   ],
   "source": [
    "cat example-data/toy.fastq | itermae -o \"input > \" -oseq \"input\""
   ]
  },
  {
   "cell_type": "markdown",
   "metadata": {},
   "source": [
    "### operations\n",
    "\n",
    "How to write an operation? Each operation has two parts. \n",
    "There's the part on the left that is what the operation is applied to, the part on the right that is the \n",
    "regular expression to apply, and between these is ` > ` (space, greater than, space).\n",
    "\n",
    "#### inputs\n",
    "For your first operation, the input has to be `input` because that's the only available sequence, the input sequence of the sequence record. If you use mutiple operations, you can feed groups \"captured\" from previous operations as inputs to later operations (we talk about this later in this guide).\n",
    "\n",
    "#### regular expressions\n",
    "\n",
    "Then there's the regular expression. These are complex, and `itermae` is designed to expose this complexity \n",
    "to the user directly so that you can do more with the tool! Here, I will try to explain a cookbook/copy-paste \n",
    "version that you can use if you're new to regexes and need to trial-and-error the result you want:\n",
    "\n",
    "The pattern you define is matched against the read. So the pattern `.` will match one letter of anything, \n",
    "which is why I used it in the above examples (it always matches!). Putting an `ATCG` will only match when\n",
    "there's exactly a `ATCG` in the read, anywhere in the read, but exactly those four letters in that sequence.\n",
    "If you want to only one character of DNA, you can use `[ATCG]` to match any one of those four letters. \n",
    "*Always use uppercase for `itermae`!* If you want to include `N`, you can do that with `[ATCGN]`. \n",
    "\n",
    "To match two letters, you could write `[ATCGN][ATCGN]`, or more easily `[ATCGN]{2}`. \n",
    "The `{}` braces help you specify how many to match. \n",
    "You can specify one number `{3}`, or a range `{2,5}`.\n",
    "So for a DNA barcode of length 18-22 bases, you may want to specify `[ATCGN]{18,22}`.\n",
    "\n",
    "Capture groups are the whole point of this tool, but those unfortunately have a complex syntax. A group uses\n",
    "notation like `(?P<barcode>[ATCGN]{18,22})`, where `(?P<` is the start, `barcode` is the name of the group, \n",
    "and the group is whatever matches to `[ATCGN]{18,22}`, until the `)`. \n",
    "\n",
    "To match this barcode only when it is between defined sequences, for example priming sites, you can use a more\n",
    "complex pattern like `GGTCTCT(?P<centerPart>[ATCGN]{18,22})TACGCT`. This matches a sequence where:\n",
    "- There is a `GGTCTCT`\n",
    "- then 18 to 22 bases of either A, T, C, G, or N\n",
    "- then `TACGCT`\n",
    "\n",
    "Crucially, it then saves that center 18 to 22 bases as a group named `centerPart`.\n",
    "That means you can then only output that group, or you can put it into the output ID, or you can even match\n",
    "other operation patterns against _just that group_.\n",
    "\n",
    "For example:"
   ]
  },
  {
   "cell_type": "code",
   "execution_count": 36,
   "metadata": {},
   "outputs": [
    {
     "name": "stdout",
     "output_type": "stream",
     "text": [
      "ExampleToyReads:1:exampleFlowCell:1:10000:10000:10000\t0\t*\t0\t255\t*\t=\t0\t0\tTCAGTCGTAGCAGTTCGATGCG\tEEEEEEEEEEEEEEEEEEEEEA\tXI:0\n",
      "ExampleToyReads:1:exampleFlowCell:1:10000:10001:10001\t0\t*\t0\t255\t*\t=\t0\t0\tTGGCAGACACACGCTACACG\tEEEEEEEEEEEEEEEEEEEE\tXI:0\n",
      "ExampleToyReads:1:exampleFlowCell:1:10000:10003:10003\t0\t*\t0\t255\t*\t=\t0\t0\tGATGCACTGCGTTCCATGTTCG\tEEEEEEEEEEEEEEEEEEEEEE\tXI:0\n",
      "ExampleToyReads:1:exampleFlowCell:1:10000:10006:10006\t0\t*\t0\t255\t*\t=\t0\t0\tATTCTGAGCGGTGCCATAGTCG\tEEEEEEEEEEEEEEEEEEEEEE\tXI:0\n",
      "ExampleToyReads:1:exampleFlowCell:1:10000:10007:10007\t0\t*\t0\t255\t*\t=\t0\t0\tATAAGTTAGACAGGTCAGCCG\tEEEEEEEEEEEEEEEEEEEEE\tXI:0\n",
      "ExampleToyReads:1:exampleFlowCell:1:10000:10008:10008\t0\t*\t0\t255\t*\t=\t0\t0\tCACACGCACGAATTTGCATACG\tEEEAEEEEEEEEEEEEAEEEEA\tXI:0\n"
     ]
    }
   ],
   "source": [
    "cat example-data/toy.fastq \\\n",
    "    | itermae -o \"input > GGTCTCT(?P<centerPart>[ATCGN]{18,22})TACGCT\" -oseq \"centerPart\""
   ]
  },
  {
   "cell_type": "markdown",
   "metadata": {},
   "source": [
    "This tries to match the pattern on every read, and only where it matches it them writes to the output the matched \n",
    "`centerPart` that contains the group of interest. Note that we use `\"input > ` and `-oseq \"centerPart\"`. \n",
    "Important!"
   ]
  },
  {
   "cell_type": "code",
   "execution_count": null,
   "metadata": {},
   "outputs": [],
   "source": [
    "#### fuzzy regular expressions\n",
    "\n",
    "\"input.id+'_'+sample.seq\"\n",
    "\n",
    "\"after\"\n",
    "\n",
    "So then we get to the regular expression (?P<sample>[ATCGN]{5})(?P<after>[ATCGN]{10}). \n",
    "    \n",
    "This should get you going, but regular expressions are a powerful and common feature in programming and analysis _For the best understanding, I recommend you search for \"python regular expression tutorial\" or the like and read a few articles that talk about this_, then consult the regex package documentation for more information about those specific modifiers."
   ]
  },
  {
   "cell_type": "markdown",
   "metadata": {},
   "source": [
    "You can change the output format using\n",
    "`-of` or `--output-format` and the formats SAM, FASTQ, or FASTA. You can then write that to a file by using the `>` operator in the shell."
   ]
  },
  {
   "cell_type": "code",
   "execution_count": 10,
   "metadata": {},
   "outputs": [
    {
     "name": "stdout",
     "output_type": "stream",
     "text": [
      "Wait a second, I don't understand the outputs to be done! Are there any? Maybe there's small part I'm choking on? Maybe try adding steps in one at a time in an interactive context with '--limit' set, to debug easier. Exiting...\n"
     ]
    },
    {
     "ename": "",
     "evalue": "1",
     "output_type": "error",
     "traceback": []
    }
   ],
   "source": []
  },
  {
   "cell_type": "code",
   "execution_count": 2,
   "metadata": {},
   "outputs": [
    {
     "name": "stdout",
     "output_type": "stream",
     "text": [
      "ExampleToyReads:1:exampleFlowCell:1:10000:10000:10000_TTCAC\t0\t*\t0\t255\t*\t=\t0\t0\tGTCCTCGAGG\tEEEA/<EAEE\tXI:0\n",
      "ExampleToyReads:1:exampleFlowCell:1:10000:10001:10001_GCTTC\t0\t*\t0\t255\t*\t=\t0\t0\tGTCCTCGAGG\tEEEE/AEAAE\tXI:0\n",
      "ExampleToyReads:1:exampleFlowCell:1:10000:10002:10002_CCCGG\t0\t*\t0\t255\t*\t=\t0\t0\tCGTTCGGGGA\tA/A<E/<EEA\tXI:0\n",
      "ExampleToyReads:1:exampleFlowCell:1:10000:10003:10003_CTACT\t0\t*\t0\t255\t*\t=\t0\t0\tGTCCACGAGG\tEEEE/AEEAE\tXI:0\n"
     ]
    }
   ],
   "source": [
    "cat example-data/toy.fastq \\\n",
    "    | itermae \\\n",
    "        -o \"input > (?P<sample>[ATCGN]{5})(?P<after>[ATCGN]{10})\" \\\n",
    "        -oid \"input.id+'_'+sample.seq\" -oseq \"after\""
   ]
  },
  {
   "cell_type": "markdown",
   "metadata": {},
   "source": [
    "Note that the '\\' characters are used at the end of the line to \"escape\" the end of the line, thus the terminal sees the above as one long string. But humans can see it on multiple lines.\n",
    "\n",
    "Also note that the output of the `cat` command is piped using `|` into `itermae`. This is the intended use-case of `itermae`.\n",
    "\n",
    "Below, we go into the various aspects of what's happening, break them apart, then put them back together and show several applications and tricks that you can do with the tool."
   ]
  },
  {
   "cell_type": "markdown",
   "metadata": {},
   "source": [
    "### Input\n",
    "\n",
    "`itermae` also has the capacity to read FASTQ or FASTQZ files from disk, but also lacks any internal parallelization. This is a design choice to limit complexity and prevent memory leaks (particularly in `regex` module), and to operate modularly with respect to other tools within a shell. \n",
    "\n",
    "Here is the first two records of a 'toy.fastq' file I've included in the git repo for this demo, and for you to test with:"
   ]
  },
  {
   "cell_type": "code",
   "execution_count": null,
   "metadata": {},
   "outputs": [],
   "source": [
    "head -n 8 example-data/toy.fastq"
   ]
  },
  {
   "cell_type": "markdown",
   "metadata": {},
   "source": [
    "Thus, we can use a tool like `cat` (or later `zcat` or `parallel`) to pipe that into `itermae`. \n",
    "\n",
    "Below is demonstrated a fairly minimal use of `itermae`, where each of the input records is parsed using a regular expression. This expression is the argument `-o \"input > (?P<sample>[ATCGN]{5})(?P<after>[ATCGN]{10})\"`. Let's break that down.\n",
    "\n",
    "Each `-o` (aka `--operation`) is an *operation*. There must be at least one, and there can be many. Each operation is a fuzzy regular expression that takes some *input*, matches the pattern on the right, and stores whatever *groups* are captured by the regular expression.\n",
    "\n",
    "In the first part of the operation we see `input > `. This means that the *input* of the sequence is exactly `input`. Putting `input` means it will take the raw input FASTQ record that's being piped into the program. Every first operation should be using this (ie starting with `input > `) because otherwise there's nothing to match against! The ` > ` symbol (with spaces on left and right!) is a delimiter to distinguish what is the input (on the left of ` > `) from the regular expression (on the right of ` > `).\n",
    "\n",
    "So then we get to the regular expression `(?P<sample>[ATCGN]{5})(?P<after>[ATCGN]{10})`. These are complex, layered, and use a lot of funny characters. `itermae` is designed to expose this complexity to the user directly, so that the user may use the tool to execute complex operations. However, this requires a digression into regular expressions. _For the best understanding, I recommend you search for \"python regular expression tutorial\" or the like and read a few articles that talk about this_, then consult the [`regex` package documentation](https://pypi.org/project/regex/) for more information about those specific modifiers. Below is an abridged explanation: \n",
    "    \n",
    "    \"input.id+'_'+sample.seq\"\n",
    "    \n",
    "    \"after\""
   ]
  },
  {
   "cell_type": "code",
   "execution_count": null,
   "metadata": {},
   "outputs": [],
   "source": []
  },
  {
   "cell_type": "code",
   "execution_count": null,
   "metadata": {},
   "outputs": [],
   "source": [
    "\n",
    "# This should output two SAM-format entries, putting the first five bases in the\n",
    "# read ID and saving the sequence as the next 10 bases after those.\n",
    "#\n",
    "# The above command could be equivalently written with the long-form of the\n",
    "# flags as --output-id and --output-seq\n"
   ]
  },
  {
   "cell_type": "code",
   "execution_count": null,
   "metadata": {},
   "outputs": [],
   "source": [
    "# Demo 02\n",
    "# \n",
    "# This is the same operation as the first demo, but now demonstrating options\n",
    "# to debug and get verbosity.\n",
    "\n",
    "input_fastq=$(cat <<EOF\n",
    "@NB501157:100:H5J5LBGX2:1:11101:10000:10043 1:N:0:\n",
    "TTCACGTCCACGAGGTCTCTTCAGTCGTAGCAGTTCGCGTACGCTACAGGTCGACGGTAAGAGAGGGATGTGATC\n",
    "+\n",
    "AAAAAEEEA/<EAEEEEEEEEEEEEEEEEEEEEEEEEEAEEEEEEEEEEEEEEEEEEEAEEEEEEEEEEEEEEEE\n",
    "@NB501157:100:H5J5LBGX2:1:11101:10000:19701 1:N:0:\n",
    "CTACTGTCCACGAGGTCTCTGATGCACTGCGTTCCATGTTCGTACGCTGCAGGTCGACGGAAGGAGCGCGATGTG\n",
    "+\n",
    "AAAAAEEEE/AEEAEEEEEEEEEEEEEEEEEEEEEEEEEEEEEEEEEEEEEEEEEEEEEEEEEEEEEEEEEEEEE\n",
    "EOF\n",
    ")\n",
    "\n",
    "echo\n",
    "echo \"With level 1 verbosity\"\n",
    "echo \"${input_fastq}\" | \n",
    "    itermae -o \"input > (?P<sample>[ATCGN]{5})(?P<after>[ATCGN]{10})\" \\\n",
    "        -oid \"input.id+'_'+sample.seq\" -oseq \"after\" \\\n",
    "        -v\n",
    "\n",
    "echo\n",
    "echo \"With level 2 verbosity\"\n",
    "echo \"${input_fastq}\" | \n",
    "    itermae -o \"input > (?P<sample>[ATCGN]{5})(?P<after>[ATCGN]{10})\" \\\n",
    "        -oid \"input.id+'_'+sample.seq\" -oseq \"after\" \\\n",
    "        -v --verbose\n",
    "\n",
    "echo\n",
    "echo \"With level 3 verbosity\"\n",
    "echo \"${input_fastq}\" | \n",
    "    itermae -o \"input > (?P<sample>[ATCGN]{5})(?P<after>[ATCGN]{10})\" \\\n",
    "        -oid \"input.id+'_'+sample.seq\" -oseq \"after\" \\\n",
    "        -v -v -v\n",
    "\n",
    "# This should spit out a lot of outputs to standard error, that tell you exactly\n",
    "# what is going on.\n"
   ]
  },
  {
   "cell_type": "code",
   "execution_count": null,
   "metadata": {},
   "outputs": [],
   "source": [
    "# Demo 02\n",
    "# \n",
    "# Here, we use the same FASTQ input as the previous demo, but we use a more\n",
    "# complex set of operations. To capture multiple groups. We also use the\n",
    "# longer flags, for readability.\n",
    "#\n",
    "# The capture groups on this one are complex. This amplicon is designed with\n",
    "# first five bases being sample index, then it's fixed sequence, then it's\n",
    "# a strain barcode, then fixed sequence, then 6 bases of UMI alternating with\n",
    "# fixed sequence. Yep. Kinda complex.\n",
    "\n",
    "input_fastq=$(cat <<EOF\n",
    "@NB501157:100:H5J5LBGX2:1:11101:10000:10043 1:N:0:\n",
    "TTCACGTCCACGAGGTCTCTTCAGTCGTAGCAGTTCGCGTACGCTACAGGTCGACGGTAAGAGAGGGATGTGATC\n",
    "+\n",
    "AAAAAEEEA/<EAEEEEEEEEEEEEEEEEEEEEEEEEEAEEEEEEEEEEEEEEEEEEEAEEEEEEEEEEEEEEEE\n",
    "@NB501157:100:H5J5LBGX2:1:11101:10000:19701 1:N:0:\n",
    "CTACTGTCCACGAGGTCTCTGATGCACTGCGTTCCATGTTCGTACGCTGCAGGTCGACGGAAGGAGCGCGATGTG\n",
    "+\n",
    "AAAAAEEEE/AEEAEEEEEEEEEEEEEEEEEEEEEEEEEEEEEEEEEEEEEEEEEEEEEEEEEEEEEEEEEEEEE\n",
    "EOF\n",
    ")\n",
    "\n",
    "echo \"${input_fastq}\" | \n",
    "    itermae \\\n",
    "        --operation \"input > (?P<sample>[ATCG]{5})(?P<fixed1>GTCCACGAGGTC){e<=1}(?P<rest>TCT.*){e<=1}\" \\\n",
    "        --operation \"rest > (?P<tag>TCT){e<=1}(?P<strain>[ATCG]{10,26})CGTACGC\" \\\n",
    "        --operation \"rest > (?P<fixed2>CGTACGCTGCAGGTC)(?<UMItail>GAC[ATCG]G[ATCG]A[ATCG]G[ATCG]G[ATCG]G[ATCG]GAT){s<=2}\" \\\n",
    "        --operation \"UMItail > (GAC(?P<umi1>[ATCG])G(?<umi2>[ATCG])A(?<umi3>[ATCG])G(?<umi4>[ATCG])G(?<umi5>[ATCG])G(?<umi6>[ATCG])G){e<=2}\" \\\n",
    "        --output-id \"input.id+'_umi='+umi1.seq+umi2.seq+umi3.seq+umi4.seq+umi5.seq+umi6.seq+'_sample='+sample.seq\" \\\n",
    "        --output-seq \"strain\" \\\n",
    "        -v\n",
    "\n",
    "# This should output one SAM-format entry that matches and can form the output\n",
    "# appropriately.\n"
   ]
  },
  {
   "cell_type": "code",
   "execution_count": null,
   "metadata": {},
   "outputs": [],
   "source": [
    "# Demo 01\n",
    "# \n",
    "# This is just a real simple example to start.\n",
    "# \n",
    "# For maximum transparency, in these demos I contrive a fake FASTQ file as\n",
    "# a string, delimited by the usage of '<<EOF' and 'EOF' as seen below, and feed\n",
    "# that either directly into the program (as here) or into a temporary file\n",
    "# (for later demos).\n",
    "\n",
    "input_fastq=$(cat <<EOF\n",
    "@NB501157:100:H5J5LBGX2:1:11101:10000:10043 1:N:0:\n",
    "TTCACGTCCTCGAGGTCTCTTCAGTCGTAGCAGTTCGATGCGTACGCTACAGGTCGACGGTAAGAGAGGGATGTG\n",
    "+\n",
    "AAAAAEEEA/<EAEEEEEEEEEEEEEEEEEEEEEEEEEEEEAEEEEEEEEEEEEEEEEEEEAEEEEEEEEEEEEE\n",
    "@NB501157:100:H5J5LBGX2:1:11101:10000:10138 1:N:0:\n",
    "GCTTCGTCCTCGAGGTCTCTTGGGCAGACACAACGCTACACGTACGCTGCAGGTCGAGGGCACGCGAGAGATGTG\n",
    "+\n",
    "AAAAAEEEE/AEAAEEEEEEEEEEEEEEEEEEEEEEEEEEEEEEEEEEEEEEEEEEEEEEEEEEEEEEEEEEEEE\n",
    "EOF\n",
    ")\n",
    "\n",
    "echo \"${input_fastq}\" | \n",
    "    ./itermae.py -o \"input > (?P<sample>[ATCGN]{5})(?P<after>[ATCGN]{10})\" \\\n",
    "        -oid \"input.id+'_'+sample.seq\" -oseq \"after\"\n",
    "\n",
    "# This should output two SAM-format entries, putting the first five bases in the\n",
    "# read ID and saving the sequence as the next 10 bases after those.\n",
    "\n",
    "# The above command could be equivalently written with the long-form of the\n",
    "# flags as --output-id and --output-seq\n",
    "\n",
    "#\t\t-o \"Sample:  input   > (?P<sample>[ATCG]{5})(?P<fixed1>GTCCACGAGGTC){e<=1}(?P<rest>TCT.*){e<=1}\" \\\n",
    "#\t\t-o \"Strain:  rest\t > (?P<tag>TCT){e<=1}(?P<strain>[ATCG]{10,26})CGTACGCTGCAGGTCGAC\" \\\n",
    "#\t\t-o \"UMITail: rest    > (?P<fixed2>CGTACGCTGCAGGTC)(?<UMItail>GAC[ATCG]G[ATCG]A[ATCG]G[ATCG]G[ATCG]G[ATCG]GAT){s<=2}\" \\\n",
    "#\t\t-o \"UMI:     UMItail > (GAC(?P<umi1>[ATCG])G(?<umi2>[ATCG])A(?<umi3>[ATCG])G(?<umi4>[ATCG])G(?<umi5>[ATCG])G(?<umi6>[ATCG])G){e<=2}\" \\\n",
    "#\t\t--output-seq \"sample+spacer+strain\" \\\n",
    "#\t\t--output-id \"input.id+'_umi='+umi1.seq+umi2.seq+umi3.seq+ \\\n",
    "#\t\t\tumi4.seq+umi5.seq+umi6.seq+'_sample='+sample.seq\" \\\n",
    "#\t\t--filter \"sample_length == 5 and rest_start >= 16\" \\\n",
    "#\t\t--output-id \"input.id+'_umi='+umi1.seq+umi2.seq+umi3.seq+ \\\n",
    "#\t\t\tumi4.seq+umi5.seq+umi6.seq+'_sample='+sample.seq\" \\\n",
    "#\t\t--filter \"sample_length == 5 and rest_start >= 16\" \\\n",
    "#\t\t--job-polling-delay 0.1 \\\n",
    "#\t\t--verbose #-m \n"
   ]
  },
  {
   "cell_type": "code",
   "execution_count": null,
   "metadata": {},
   "outputs": [],
   "source": [
    "# Demo XX\n",
    "# \n",
    "# Filters\n",
    "# Filters are evaluated as straight plain python, but where each group is a \n",
    "# variable available, and these each have the attributes of 'start', 'end', and\n",
    "# 'length'.\n",
    "#\n",
    "# Here we use a reduced set of operations to keep it sorta simpler.\n",
    "\n",
    "input_fastq=$(cat <<EOF\n",
    "@NB501157:100:H5J5LBGX2:1:11101:10000:10043 1:N:0:\n",
    "TTCACGTCCACGAGGTCTCTTCAGTCGTAGCAGTTCGCGTACGCTACAGGTCGACGGTAAGAGAGGGATGTG\n",
    "+\n",
    "AAAAAEEEA/<EAEEEEEEEEEEEEEEEEEEEEEEEEEAEEEEEEEEEEEEEEEEEEEAEEEEEEEEEEEEE\n",
    "@NB501157:100:H5J5LBGX2:1:11101:10000:19701 1:N:0:\n",
    "CTACTGTCCACGAGGTCTCTGATGCACTGCGTTCCATGTTCGTACGCTGCAGGTCGACGGAAGGAGCGCGATGTG\n",
    "+\n",
    "AAAAAEEEE/AEEAEEEEEEEEEEEEEEEEEEEEEEEEEEEEEEEEEEEEEEEEEEEEEEEEEEEEEEEEEEEEE\n",
    "EOF\n",
    ")\n",
    "\n",
    "echo \"${input_fastq}\" | \n",
    "    itermae \\\n",
    "        --operation \"input > (?P<sample>[ATCG]{5})(?P<fixed1>GTCCACGAGGTC){e<=1}(?P<rest>TCT.*){e<=1}\" \\\n",
    "        --operation \"rest > (?P<tag>TCT){e<=1}(?P<strain>[ATCG]{10,26})(?P<tail>CGTACGC)\" \\\n",
    "        --output-id \"input.id+'_sample='+sample.seq\" \\\n",
    "        --output-seq \"strain\" \\\n",
    "\t\t--filter \"sample.length == 5 and strain.length == 20\" \n",
    "\n",
    "# Note that the first one is filtered out, not because the 'sample' barcode is \n",
    "# not 5 bases at the start, but 'strain' barcode is not exactly 20 bases. It is\n",
    "# still captured because I specified that 'strain' could capture between 10 and\n",
    "# 26 bases, but it's not output because the filter statement is not true.\n",
    "\n",
    "\n"
   ]
  }
 ],
 "metadata": {
  "kernelspec": {
   "display_name": "Bash",
   "language": "bash",
   "name": "bash"
  },
  "language_info": {
   "codemirror_mode": "shell",
   "file_extension": ".sh",
   "mimetype": "text/x-sh",
   "name": "bash"
  }
 },
 "nbformat": 4,
 "nbformat_minor": 4
}
