{
 "cells": [
  {
   "cell_type": "markdown",
   "metadata": {},
   "source": [
    "## Demos and tutorial\n",
    "\n",
    "This is a series of demos, ie tutorial, to show how to use `itermae` on the command line. First is a fairly minimal example of how to use the tool to capture the first five bases of FASTQ reads and stick them in the ID, and output each read as a SAM record:"
   ]
  },
  {
   "cell_type": "code",
   "execution_count": 11,
   "metadata": {},
   "outputs": [
    {
     "name": "stdout",
     "output_type": "stream",
     "text": [
      "NB501157:100:H5J5LBGX2:1:11101:10000:10043_TTCAC\t0\t*\t0\t255\t*\t=\t0\t0\tGTCCTCGAGG\tEEEA/<EAEE\tXI:0\n",
      "NB501157:100:H5J5LBGX2:1:11101:10000:10138_GCTTC\t0\t*\t0\t255\t*\t=\t0\t0\tGTCCTCGAGG\tEEEE/AEAAE\tXI:0\n",
      "NB501157:100:H5J5LBGX2:1:11101:10005:9367_CCCGG\t0\t*\t0\t255\t*\t=\t0\t0\tCGTTCGGGGA\tA/A<E/<EEA\tXI:0\n",
      "NB501157:100:H5J5LBGX2:1:11101:10000:19701_CTACT\t0\t*\t0\t255\t*\t=\t0\t0\tGTCCACGAGG\tEEEE/AEEAE\tXI:0\n"
     ]
    }
   ],
   "source": [
    "cat example-data/toy.fastq | \\\n",
    "    itermae \\\n",
    "        -o \"input > (?P<sample>[ATCGN]{5})(?P<after>[ATCGN]{10})\" \\\n",
    "        -oid \"input.id+'_'+sample.seq\" -oseq \"after\""
   ]
  },
  {
   "cell_type": "markdown",
   "metadata": {},
   "source": [
    "Note that"
   ]
  },
  {
   "cell_type": "markdown",
   "metadata": {},
   "source": [
    "### Input\n",
    "\n",
    "`itermae` has the capacity to read FASTQ or FASTQZ files from disk, but also lacks any internal parallelization. This is a design choice to limit complexity and prevent memory leaks (particularly in `regex` module), and to operate modularly with respect to other tools within a shell. \n",
    "\n",
    "Instead, the tool is intended to read in FASTQ records from standard input. Here is a toy FASTQ file for this demo, just showing the first two records here:"
   ]
  },
  {
   "cell_type": "code",
   "execution_count": 9,
   "metadata": {},
   "outputs": [
    {
     "name": "stdout",
     "output_type": "stream",
     "text": [
      "@NB501157:100:H5J5LBGX2:1:11101:10000:10043 1:N:0:\n",
      "TTCACGTCCTCGAGGTCTCTTCAGTCGTAGCAGTTCGATGCGTACGCTACAGGTCGACGGTAAGAGAGGGATGTG\n",
      "+\n",
      "AAAAAEEEA/<EAEEEEEEEEEEEEEEEEEEEEEEEEEEEEAEEEEEEEEEEEEEEEEEEEAEEEEEEEEEEEEE\n",
      "@NB501157:100:H5J5LBGX2:1:11101:10000:10138 1:N:0:\n",
      "GCTTCGTCCTCGAGGTCTCTTGGGCAGACACAACGCTACACGTACGCTGCAGGTCGAGGGCACGCGAGAGATGTG\n",
      "+\n",
      "AAAAAEEEE/AEAAEEEEEEEEEEEEEEEEEEEEEEEEEEEEEEEEEEEEEEEEEEEEEEEEEEEEEEEEEEEEE\n"
     ]
    }
   ],
   "source": [
    "head -n 8 example-data/toy.fastq"
   ]
  },
  {
   "cell_type": "markdown",
   "metadata": {},
   "source": [
    "Thus, we can use a tool like `cat` (or later `zcat` or `parallel`) to pipe that into `itermae`. \n",
    "\n",
    "Below is demonstrated a fairly minimal use of `itermae`, where each of the input records is parsed using a regular expression. This expression is the argument `-o \"input > (?P<sample>[ATCGN]{5})(?P<after>[ATCGN]{10})\"`. Let's break that down.\n",
    "\n",
    "Each `-o` (aka `--operation`) is an *operation*. There must be at least one, and there can be many. Each operation is a fuzzy regular expression that takes some *input*, matches the pattern on the right, and stores whatever *groups* are captured by the regular expression.\n",
    "\n",
    "In the first part of the operation we see `input > `. This means that the *input* of the sequence is exactly `input`. Putting `input` means it will take the raw input FASTQ record that's being piped into the program. Every first operation should be using this (ie starting with `input > `) because otherwise there's nothing to match against! The ` > ` symbol (with spaces on left and right!) is a delimiter to distinguish what is the input (on the left of ` > `) from the regular expression (on the right of ` > `).\n",
    "\n",
    "So then we get to the regular expression `(?P<sample>[ATCGN]{5})(?P<after>[ATCGN]{10})`. These are complex, layered, and use a lot of funny characters. `itermae` is designed to expose this complexity to the user directly, so that the user may use the tool to execute complex operations. However, this requires a digression into regular expressions. _For the best understanding, I recommend you search for \"python regular expression tutorial\" or the like and read a few articles that talk about this_, then consult the [`regex` package documentation](https://pypi.org/project/regex/) for more information about those specific modifiers. Below is an abridged explanation: \n",
    "    \n",
    "    \"input.id+'_'+sample.seq\"\n",
    "    \n",
    "    \"after\""
   ]
  },
  {
   "cell_type": "code",
   "execution_count": null,
   "metadata": {},
   "outputs": [],
   "source": []
  },
  {
   "cell_type": "code",
   "execution_count": null,
   "metadata": {},
   "outputs": [],
   "source": [
    "\n",
    "# This should output two SAM-format entries, putting the first five bases in the\n",
    "# read ID and saving the sequence as the next 10 bases after those.\n",
    "#\n",
    "# The above command could be equivalently written with the long-form of the\n",
    "# flags as --output-id and --output-seq\n"
   ]
  },
  {
   "cell_type": "code",
   "execution_count": null,
   "metadata": {},
   "outputs": [],
   "source": [
    "# Demo 02\n",
    "# \n",
    "# This is the same operation as the first demo, but now demonstrating options\n",
    "# to debug and get verbosity.\n",
    "\n",
    "input_fastq=$(cat <<EOF\n",
    "@NB501157:100:H5J5LBGX2:1:11101:10000:10043 1:N:0:\n",
    "TTCACGTCCACGAGGTCTCTTCAGTCGTAGCAGTTCGCGTACGCTACAGGTCGACGGTAAGAGAGGGATGTGATC\n",
    "+\n",
    "AAAAAEEEA/<EAEEEEEEEEEEEEEEEEEEEEEEEEEAEEEEEEEEEEEEEEEEEEEAEEEEEEEEEEEEEEEE\n",
    "@NB501157:100:H5J5LBGX2:1:11101:10000:19701 1:N:0:\n",
    "CTACTGTCCACGAGGTCTCTGATGCACTGCGTTCCATGTTCGTACGCTGCAGGTCGACGGAAGGAGCGCGATGTG\n",
    "+\n",
    "AAAAAEEEE/AEEAEEEEEEEEEEEEEEEEEEEEEEEEEEEEEEEEEEEEEEEEEEEEEEEEEEEEEEEEEEEEE\n",
    "EOF\n",
    ")\n",
    "\n",
    "echo\n",
    "echo \"With level 1 verbosity\"\n",
    "echo \"${input_fastq}\" | \n",
    "    itermae -o \"input > (?P<sample>[ATCGN]{5})(?P<after>[ATCGN]{10})\" \\\n",
    "        -oid \"input.id+'_'+sample.seq\" -oseq \"after\" \\\n",
    "        -v\n",
    "\n",
    "echo\n",
    "echo \"With level 2 verbosity\"\n",
    "echo \"${input_fastq}\" | \n",
    "    itermae -o \"input > (?P<sample>[ATCGN]{5})(?P<after>[ATCGN]{10})\" \\\n",
    "        -oid \"input.id+'_'+sample.seq\" -oseq \"after\" \\\n",
    "        -v --verbose\n",
    "\n",
    "echo\n",
    "echo \"With level 3 verbosity\"\n",
    "echo \"${input_fastq}\" | \n",
    "    itermae -o \"input > (?P<sample>[ATCGN]{5})(?P<after>[ATCGN]{10})\" \\\n",
    "        -oid \"input.id+'_'+sample.seq\" -oseq \"after\" \\\n",
    "        -v -v -v\n",
    "\n",
    "# This should spit out a lot of outputs to standard error, that tell you exactly\n",
    "# what is going on.\n"
   ]
  },
  {
   "cell_type": "code",
   "execution_count": null,
   "metadata": {},
   "outputs": [],
   "source": [
    "# Demo 02\n",
    "# \n",
    "# Here, we use the same FASTQ input as the previous demo, but we use a more\n",
    "# complex set of operations. To capture multiple groups. We also use the\n",
    "# longer flags, for readability.\n",
    "#\n",
    "# The capture groups on this one are complex. This amplicon is designed with\n",
    "# first five bases being sample index, then it's fixed sequence, then it's\n",
    "# a strain barcode, then fixed sequence, then 6 bases of UMI alternating with\n",
    "# fixed sequence. Yep. Kinda complex.\n",
    "\n",
    "input_fastq=$(cat <<EOF\n",
    "@NB501157:100:H5J5LBGX2:1:11101:10000:10043 1:N:0:\n",
    "TTCACGTCCACGAGGTCTCTTCAGTCGTAGCAGTTCGCGTACGCTACAGGTCGACGGTAAGAGAGGGATGTGATC\n",
    "+\n",
    "AAAAAEEEA/<EAEEEEEEEEEEEEEEEEEEEEEEEEEAEEEEEEEEEEEEEEEEEEEAEEEEEEEEEEEEEEEE\n",
    "@NB501157:100:H5J5LBGX2:1:11101:10000:19701 1:N:0:\n",
    "CTACTGTCCACGAGGTCTCTGATGCACTGCGTTCCATGTTCGTACGCTGCAGGTCGACGGAAGGAGCGCGATGTG\n",
    "+\n",
    "AAAAAEEEE/AEEAEEEEEEEEEEEEEEEEEEEEEEEEEEEEEEEEEEEEEEEEEEEEEEEEEEEEEEEEEEEEE\n",
    "EOF\n",
    ")\n",
    "\n",
    "echo \"${input_fastq}\" | \n",
    "    itermae \\\n",
    "        --operation \"input > (?P<sample>[ATCG]{5})(?P<fixed1>GTCCACGAGGTC){e<=1}(?P<rest>TCT.*){e<=1}\" \\\n",
    "        --operation \"rest > (?P<tag>TCT){e<=1}(?P<strain>[ATCG]{10,26})CGTACGC\" \\\n",
    "        --operation \"rest > (?P<fixed2>CGTACGCTGCAGGTC)(?<UMItail>GAC[ATCG]G[ATCG]A[ATCG]G[ATCG]G[ATCG]G[ATCG]GAT){s<=2}\" \\\n",
    "        --operation \"UMItail > (GAC(?P<umi1>[ATCG])G(?<umi2>[ATCG])A(?<umi3>[ATCG])G(?<umi4>[ATCG])G(?<umi5>[ATCG])G(?<umi6>[ATCG])G){e<=2}\" \\\n",
    "        --output-id \"input.id+'_umi='+umi1.seq+umi2.seq+umi3.seq+umi4.seq+umi5.seq+umi6.seq+'_sample='+sample.seq\" \\\n",
    "        --output-seq \"strain\" \\\n",
    "        -v\n",
    "\n",
    "# This should output one SAM-format entry that matches and can form the output\n",
    "# appropriately.\n"
   ]
  },
  {
   "cell_type": "code",
   "execution_count": null,
   "metadata": {},
   "outputs": [],
   "source": [
    "# Demo 01\n",
    "# \n",
    "# This is just a real simple example to start.\n",
    "# \n",
    "# For maximum transparency, in these demos I contrive a fake FASTQ file as\n",
    "# a string, delimited by the usage of '<<EOF' and 'EOF' as seen below, and feed\n",
    "# that either directly into the program (as here) or into a temporary file\n",
    "# (for later demos).\n",
    "\n",
    "input_fastq=$(cat <<EOF\n",
    "@NB501157:100:H5J5LBGX2:1:11101:10000:10043 1:N:0:\n",
    "TTCACGTCCTCGAGGTCTCTTCAGTCGTAGCAGTTCGATGCGTACGCTACAGGTCGACGGTAAGAGAGGGATGTG\n",
    "+\n",
    "AAAAAEEEA/<EAEEEEEEEEEEEEEEEEEEEEEEEEEEEEAEEEEEEEEEEEEEEEEEEEAEEEEEEEEEEEEE\n",
    "@NB501157:100:H5J5LBGX2:1:11101:10000:10138 1:N:0:\n",
    "GCTTCGTCCTCGAGGTCTCTTGGGCAGACACAACGCTACACGTACGCTGCAGGTCGAGGGCACGCGAGAGATGTG\n",
    "+\n",
    "AAAAAEEEE/AEAAEEEEEEEEEEEEEEEEEEEEEEEEEEEEEEEEEEEEEEEEEEEEEEEEEEEEEEEEEEEEE\n",
    "EOF\n",
    ")\n",
    "\n",
    "echo \"${input_fastq}\" | \n",
    "    ./itermae.py -o \"input > (?P<sample>[ATCGN]{5})(?P<after>[ATCGN]{10})\" \\\n",
    "        -oid \"input.id+'_'+sample.seq\" -oseq \"after\"\n",
    "\n",
    "# This should output two SAM-format entries, putting the first five bases in the\n",
    "# read ID and saving the sequence as the next 10 bases after those.\n",
    "\n",
    "# The above command could be equivalently written with the long-form of the\n",
    "# flags as --output-id and --output-seq\n",
    "\n",
    "#\t\t-o \"Sample:  input   > (?P<sample>[ATCG]{5})(?P<fixed1>GTCCACGAGGTC){e<=1}(?P<rest>TCT.*){e<=1}\" \\\n",
    "#\t\t-o \"Strain:  rest\t > (?P<tag>TCT){e<=1}(?P<strain>[ATCG]{10,26})CGTACGCTGCAGGTCGAC\" \\\n",
    "#\t\t-o \"UMITail: rest    > (?P<fixed2>CGTACGCTGCAGGTC)(?<UMItail>GAC[ATCG]G[ATCG]A[ATCG]G[ATCG]G[ATCG]G[ATCG]GAT){s<=2}\" \\\n",
    "#\t\t-o \"UMI:     UMItail > (GAC(?P<umi1>[ATCG])G(?<umi2>[ATCG])A(?<umi3>[ATCG])G(?<umi4>[ATCG])G(?<umi5>[ATCG])G(?<umi6>[ATCG])G){e<=2}\" \\\n",
    "#\t\t--output-seq \"sample+spacer+strain\" \\\n",
    "#\t\t--output-id \"input.id+'_umi='+umi1.seq+umi2.seq+umi3.seq+ \\\n",
    "#\t\t\tumi4.seq+umi5.seq+umi6.seq+'_sample='+sample.seq\" \\\n",
    "#\t\t--filter \"sample_length == 5 and rest_start >= 16\" \\\n",
    "#\t\t--output-id \"input.id+'_umi='+umi1.seq+umi2.seq+umi3.seq+ \\\n",
    "#\t\t\tumi4.seq+umi5.seq+umi6.seq+'_sample='+sample.seq\" \\\n",
    "#\t\t--filter \"sample_length == 5 and rest_start >= 16\" \\\n",
    "#\t\t--job-polling-delay 0.1 \\\n",
    "#\t\t--verbose #-m \n"
   ]
  },
  {
   "cell_type": "code",
   "execution_count": null,
   "metadata": {},
   "outputs": [],
   "source": [
    "# Demo XX\n",
    "# \n",
    "# Filters\n",
    "# Filters are evaluated as straight plain python, but where each group is a \n",
    "# variable available, and these each have the attributes of 'start', 'end', and\n",
    "# 'length'.\n",
    "#\n",
    "# Here we use a reduced set of operations to keep it sorta simpler.\n",
    "\n",
    "input_fastq=$(cat <<EOF\n",
    "@NB501157:100:H5J5LBGX2:1:11101:10000:10043 1:N:0:\n",
    "TTCACGTCCACGAGGTCTCTTCAGTCGTAGCAGTTCGCGTACGCTACAGGTCGACGGTAAGAGAGGGATGTG\n",
    "+\n",
    "AAAAAEEEA/<EAEEEEEEEEEEEEEEEEEEEEEEEEEAEEEEEEEEEEEEEEEEEEEAEEEEEEEEEEEEE\n",
    "@NB501157:100:H5J5LBGX2:1:11101:10000:19701 1:N:0:\n",
    "CTACTGTCCACGAGGTCTCTGATGCACTGCGTTCCATGTTCGTACGCTGCAGGTCGACGGAAGGAGCGCGATGTG\n",
    "+\n",
    "AAAAAEEEE/AEEAEEEEEEEEEEEEEEEEEEEEEEEEEEEEEEEEEEEEEEEEEEEEEEEEEEEEEEEEEEEEE\n",
    "EOF\n",
    ")\n",
    "\n",
    "echo \"${input_fastq}\" | \n",
    "    itermae \\\n",
    "        --operation \"input > (?P<sample>[ATCG]{5})(?P<fixed1>GTCCACGAGGTC){e<=1}(?P<rest>TCT.*){e<=1}\" \\\n",
    "        --operation \"rest > (?P<tag>TCT){e<=1}(?P<strain>[ATCG]{10,26})(?P<tail>CGTACGC)\" \\\n",
    "        --output-id \"input.id+'_sample='+sample.seq\" \\\n",
    "        --output-seq \"strain\" \\\n",
    "\t\t--filter \"sample.length == 5 and strain.length == 20\" \n",
    "\n",
    "# Note that the first one is filtered out, not because the 'sample' barcode is \n",
    "# not 5 bases at the start, but 'strain' barcode is not exactly 20 bases. It is\n",
    "# still captured because I specified that 'strain' could capture between 10 and\n",
    "# 26 bases, but it's not output because the filter statement is not true.\n",
    "\n",
    "\n"
   ]
  }
 ],
 "metadata": {
  "kernelspec": {
   "display_name": "Bash",
   "language": "bash",
   "name": "bash"
  },
  "language_info": {
   "codemirror_mode": "shell",
   "file_extension": ".sh",
   "mimetype": "text/x-sh",
   "name": "bash"
  }
 },
 "nbformat": 4,
 "nbformat_minor": 4
}
