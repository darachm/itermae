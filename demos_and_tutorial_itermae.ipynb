{
 "cells": [
  {
   "cell_type": "markdown",
   "metadata": {},
   "source": [
    "## Notebook of demos, tutorial\n",
    "\n",
    "This notebook is intended to give new users an idea of how `itermae` works to accomplish basic parsing, how to debug its usage, how to run it in parallel, and how to use multiple operations to do more complex parsing and filtering.\n",
    "\n",
    "1. Basic usage\n",
    "2. Debugging\n",
    "3. Parallel chopping, intended usage\n",
    "4. Multiple operations"
   ]
  },
  {
   "cell_type": "markdown",
   "metadata": {},
   "source": [
    "## Basic usage\n",
    "\n",
    "`itermae` expects to have a FASTQ file piped into the standard input (STDIN) of the program, \n",
    "likely using the `|` character. If then applies one or more operations (denoted by `-o` or `--operation`) \n",
    "to each read. For each read where the operation was successful, it generates an output sequence record \n",
    "with a sequenced defined by the `-oseq` or `--output-seq` argument \n",
    "and an optional sequence ID defined by the `-oid` or `--output-id` argument. \n",
    "The output format is by default a SAM file.\n",
    "\n",
    "Here is a minimal example that does nothing interesting, just outputs the input in SAM format:"
   ]
  },
  {
   "cell_type": "code",
   "execution_count": null,
   "metadata": {},
   "outputs": [],
   "source": [
    "cat example-data/toy.fastq | itermae -o \"input > .\" -oseq \"input\""
   ]
  },
  {
   "cell_type": "markdown",
   "metadata": {},
   "source": [
    "If the operation of output sequence definition is missing, then the program fails and tells you where it has a problem. You can omit the output ID and it will use the input ID by default. Example of failing:"
   ]
  },
  {
   "cell_type": "code",
   "execution_count": null,
   "metadata": {},
   "outputs": [],
   "source": [
    "cat example-data/toy.fastq | itermae -o \"input > \" -oseq \"input\""
   ]
  },
  {
   "cell_type": "markdown",
   "metadata": {},
   "source": [
    "### operations\n",
    "\n",
    "How to write an operation? Each operation has two parts. \n",
    "There's the part on the left that is what the operation is applied to, the part on the right that is the \n",
    "regular expression to apply, and between these is ` > ` (that is : a space, greater than sign, a space).\n",
    "\n",
    "#### inputs\n",
    "For your first operation, the input has to be `input` because that's the only available sequence, the input sequence of the sequence record. If you use mutiple operations, you can feed groups \"captured\" from previous operations as inputs to later operations (we talk about this later in this guide).\n",
    "\n",
    "#### regular expressions\n",
    "\n",
    "Then there's the regular expression. These are complex, and `itermae` is designed to expose this complexity \n",
    "to the user directly so that you can do more with the tool! Here, I will try to explain a cookbook/copy-paste \n",
    "version that you can use if you're new to regexes and need to trial-and-error the result you want:\n",
    "\n",
    "The pattern you define is matched against the read. So the pattern `.` will match one letter of anything, \n",
    "which is why I used it in the above examples (it always matches!). Putting an `ATCG` will only match when\n",
    "there's exactly a `ATCG` in the read, anywhere in the read, but exactly those four letters in that sequence.\n",
    "If you want to only one character of DNA, you can use `[ATCG]` to match any one of those four letters. \n",
    "*Always use uppercase for `itermae`!* If you want to include `N`, you can do that with `[ATCGN]`. \n",
    "\n",
    "To match two letters, you could write `[ATCGN][ATCGN]`, or more easily `[ATCGN]{2}`. \n",
    "The `{}` braces help you specify how many to match. \n",
    "You can specify one number `{3}`, or a range `{2,5}`.\n",
    "So for a DNA barcode of length 18-22 bases, you may want to specify `[ATCGN]{18,22}`.\n",
    "\n",
    "`(` `)` parentheses are used to denote groups, like they're used in math. \n",
    "Capture groups use these `()` but also use `?P` and `<>` brackets to name the group. \n",
    "A named capture group uses notation like `(?P<barcode>[ATCGN]{18,22})`, where \n",
    "`(?P<` is the start, `barcode` is the name of the group, and the group is whatever \n",
    "matches to `[ATCGN]{18,22}`, until the `)`. It's complex syntax, but necessary to clearly\n",
    "denote what is the name of the group and what is the group.\n",
    "\n",
    "To match this barcode only when it is between defined sequences, for example priming sites, you can use a more\n",
    "complex pattern like `GGTCTCT(?P<barcode>[ATCGN]{18,22})CGTACGCT`. This matches a sequence where:\n",
    "- There is a `GGTCTCT`\n",
    "- then 18 to 22 bases of either A, T, C, G, or N\n",
    "- then `CGTACGCT`\n",
    "\n",
    "Crucially, it then saves that center 18 to 22 bases as a group named `barcode`.\n",
    "That means you can then only output that group, or you can put it into the output ID, or you can even match\n",
    "other operation patterns against _just that group_.\n",
    "\n",
    "For example (using a `\\` to continue it onto a new line):"
   ]
  },
  {
   "cell_type": "code",
   "execution_count": null,
   "metadata": {},
   "outputs": [],
   "source": [
    "cat example-data/toy.fastq \\\n",
    "    | itermae -o \"input > GGTCTCT(?P<barcode>[ATCGN]{18,22})CGTACG\" -oseq \"barcode\""
   ]
  },
  {
   "cell_type": "markdown",
   "metadata": {},
   "source": [
    "This tries to match the pattern on every read, and only where it matches it them writes to the output the matched \n",
    "`barcode` that contains the group of interest. Note that we use `\"input > ` and `-oseq \"barcode\"`. \n",
    "Important!\n",
    "\n",
    "Note that 5 are output."
   ]
  },
  {
   "cell_type": "markdown",
   "metadata": {},
   "source": [
    "#### fuzzy regular expressions\n",
    "\n",
    "However, errors are common in sequencing. Substitutions, whether they come from a mutation, PCR misincorporation,\n",
    "or erroneous basecall can interfere with your ability to use defined sequence to parse your read.\n",
    "Indels are rarer in Illumina sequencing, but any indel early will affect the position of the later sequence.\n",
    "Barcode/amplicon libraries also have size heterogeneity from construction and propogation.\n",
    "\n",
    "To handle this, we can use \"fuzzy\" regular expressions. These are regular expressions, but they're approximate.\n",
    "This can tolerate errors of single-base changes or errors in length. `itermae` uses the `regex` module to do\n",
    "fuzzy regular expression matching. This is an excellent library that provides a new syntax to specify\n",
    "\"fuziness\" of a group.\n",
    "\n",
    "To write the above example in another way, we add after the group the modifier `{e<=1}`. \n",
    "This means that less-than-or-equal to 1 errors of any kind (insertion, deletion, substitution) are tolerated\n",
    "in the previous group.\n",
    "So we can change our operation to `input > (GGTCTCT){e<=1}(?P<barcode>[ATCGN]{18,22})\"`, and this will\n",
    "tolerate one or fewer errors in the `GGTCTCT` just in front of the barcode. Note the parentheses are necessary."
   ]
  },
  {
   "cell_type": "code",
   "execution_count": null,
   "metadata": {},
   "outputs": [],
   "source": [
    "cat example-data/toy.fastq \\\n",
    "    | itermae -o \"input > (GGTCTCT){e<=1}(?P<barcode>[ATCGN]{18,22})CGTACG\" -oseq \"barcode\""
   ]
  },
  {
   "cell_type": "markdown",
   "metadata": {},
   "source": [
    "Ah, see there are six that match now. Which one did not match? To demonstrate, I'll name that first\n",
    "group as `fixed` and output that."
   ]
  },
  {
   "cell_type": "code",
   "execution_count": null,
   "metadata": {},
   "outputs": [],
   "source": [
    "cat example-data/toy.fastq \\\n",
    "    | itermae -o \"input > (?P<fixed>GGTCTCT){e<=1}(?P<barcode>[ATCGN]{18,22})\" -oseq \"fixed\""
   ]
  },
  {
   "cell_type": "markdown",
   "metadata": {},
   "source": [
    "So there's a `GGTCTAT` in there, the second one. \n",
    "\n",
    "I can also append this group to the input ID, and then have the barcode be\n",
    "the main output sequence again. Note that changing the ID means you have to access attributes like \n",
    "`.id` or `.seq` from each captured group, as they're handled like BioPython SeqRecords internally. \n",
    "And the below also puts a `+'_'+` between them for readability."
   ]
  },
  {
   "cell_type": "code",
   "execution_count": null,
   "metadata": {},
   "outputs": [],
   "source": [
    "cat example-data/toy.fastq \\\n",
    "    | itermae -o \"input > (?P<fixed>GGTCTCT){e<=1}(?P<barcode>[ATCGN]{18,22})\" \\\n",
    "        -oseq \"barcode\" -oid \"input.id+'_'+fixed.seq\""
   ]
  },
  {
   "cell_type": "markdown",
   "metadata": {},
   "source": [
    "You can build on this to make it more complex. These particular reads actually have a five base index \n",
    "at the beginning that denotes the sample, so below I'll extract that and append it to the read ID, then output\n",
    "the barcode, while fuzzy matching the priming sites."
   ]
  },
  {
   "cell_type": "code",
   "execution_count": null,
   "metadata": {},
   "outputs": [],
   "source": [
    "cat example-data/toy.fastq \\\n",
    "    | itermae \\\n",
    "        -o \"input > (?P<sampleIndex>[ATCGN]{5})(GTCCACGAGGTCTCT){e<=2}(?P<barcode>[ATCGN]{18,22})(CGTACGCTG){e<=1}\" \\\n",
    "        -oseq \"barcode\" -oid \"input.id+'_'+sampleIndex.seq\""
   ]
  },
  {
   "cell_type": "markdown",
   "metadata": {},
   "source": [
    "For outputs, \n",
    "you can change the output format using `-of` or `--output-format` and the formats SAM, FASTQ, or FASTA. \n",
    "You can then write that to a file by using the `>` operator in the shell."
   ]
  },
  {
   "cell_type": "code",
   "execution_count": null,
   "metadata": {},
   "outputs": [],
   "source": [
    "cat example-data/toy.fastq \\\n",
    "    | itermae \\\n",
    "        -o \"input > (?P<sampleIndex>[ATCGN]{5})(GTCCACGAGGTCTCT){e<=2}(?P<barcode>[ATCGN]{18,22})(CGTACGCTG){e<=1}\" \\\n",
    "        -oseq \"barcode\" -oid \"input.id+'_'+sampleIndex.seq\" -of \"FASTQ\" \\\n",
    "    > out.sam\n",
    "\n",
    "head -n 4 out.sam"
   ]
  },
  {
   "cell_type": "markdown",
   "metadata": {},
   "source": [
    "So that's \"basic usage\". I could now split my SAM file based on which sample index it has,\n",
    "and cluster/tabulate barcodes.\n",
    "    \n",
    "This should get you going, but regular expressions are a powerful and common feature in programming and \n",
    "analysis. For more, I recommend you search for \"python regular expression tutorial\" \n",
    "or the like and read a few articles that talk about this, then consult the `regex` package documentation \n",
    "for more information about those specific modifiers."
   ]
  },
  {
   "cell_type": "markdown",
   "metadata": {},
   "source": [
    "## Debugging\n",
    "\n",
    "`itermae` has a lot going on internally, and it can get a bit complex. It's best to take a sample of reads\n",
    "from the middle of the file (or at least not the first ~100,000 of a FASTQ file) and feed in a hundred at a\n",
    "time to see what it does.\n",
    "\n",
    "But, there's also additional features to help with that. Extending on the above example, we can generate \n",
    "a report of what was made and how. Below, we use `--report` to specify that.\n",
    "We also use `--failed` to put the failed reads (for whatever reason) into a file for inspection."
   ]
  },
  {
   "cell_type": "code",
   "execution_count": null,
   "metadata": {},
   "outputs": [],
   "source": [
    "cat example-data/toy.fastq | itermae \\\n",
    "        -o \"input > (?P<sampleIndex>[ATCGN]{5})(GTCCACGAGGTCTCT){e<=2}(?P<barcode>[ATCGN]{18,22})(CGTACGCTG){e<=1}\" \\\n",
    "        -oseq \"barcode\" -oid \"input.id+'_'+sampleIndex.seq\" \\\n",
    "        --report report.txt --failed failed.fastq \\\n",
    "    > out.sam\n",
    "\n",
    "echo \"The report:\"\n",
    "head -n 4 report.txt\n",
    "echo\n",
    "echo \"The first of the failed reads:\"\n",
    "head -n 4 failed.fastq"
   ]
  },
  {
   "cell_type": "markdown",
   "metadata": {},
   "source": [
    "We see the third record (at fake positions 10002) failed in not being able to for the output.\n",
    "We see the failed read, and see that it's lacking the pattern we're looking for.\n",
    "\n",
    "For the report, the columns are:\n",
    "\n",
    "- passed or not\n",
    "- input ID\n",
    "- input sequence\n",
    "- output sequence, if successful\n",
    "- the result of any filters (later), which here is just True\n",
    "- a string that denotes each group matched, where it starts, ends, and length"
   ]
  },
  {
   "cell_type": "markdown",
   "metadata": {},
   "source": [
    "## Parallel chopping, intended usage\n",
    "\n",
    "### Input/output\n",
    "\n",
    "`itermae` is based on a previous tool, but this implementation has removed any pretense of trying to\n",
    "handle parallelization internally. Instead, this tool just takes a stream of standard in FASTQ and parses it.\n",
    "You can readily parallelize by using the command-line tool GNU `parallel` (yes I'll cite it).\n",
    "This designs limits complexity of code and prevents a certain _fuzzy_ memory leak...\n",
    "\n",
    "However, there is a single-thread ability to read from a file on disk using `--input`, and that can be indicated\n",
    "as being gzipped with the flag `-z`. Similarly, `itermae` is designed to output to standard output, but you can\n",
    "specify an output file with `--output`. \n",
    "\n",
    "Below is an example of using `parallel` to parallelize the above example:"
   ]
  },
  {
   "cell_type": "code",
   "execution_count": null,
   "metadata": {},
   "outputs": [],
   "source": [
    "cat example-data/toy.fastq \\\n",
    "    | parallel --pipe -L 4 \\\n",
    "        'itermae -o \"input > (?P<sampleIndex>[ATCGN]{5})(GTCCACGAGGTCTCT){e<=2}(?P<barcode>[ATCGN]{18,22})(CGTACGCTG){e<=1}\" \\\n",
    "            -oseq \"barcode\" -oid \"input.id+\\\"_\\\"+sampleIndex.seq\" ' "
   ]
  },
  {
   "cell_type": "markdown",
   "metadata": {},
   "source": [
    "The `--pipe` arguement specifies to pipe the input into `itermae`, and do that in chunks of `-L` size.\n",
    "You will probably want to use a chunk size of 10-100 thousand, but do that in multiples of 4 (since it's a fastq)!\n",
    "So something like `parallel --pipe -L 40000` is what you'd want to use on real data.\n",
    "\n",
    "Then you put the `itermae` command in quotes. Here I've used `'` on the outside. Note that if I need to `\"`\n",
    "something inside an argument building the output sequence, I need to escape that with a `\\`.\n",
    "\n",
    "You can also restrict the jobs to run with arguments like `-j`, so consult the `parallel` manual for more info."
   ]
  },
  {
   "cell_type": "markdown",
   "metadata": {},
   "source": [
    "## Multiple operations\n",
    "\n",
    "(to write)\n",
    "\n",
    "You can chain operations"
   ]
  }
 ],
 "metadata": {
  "kernelspec": {
   "display_name": "Bash",
   "language": "bash",
   "name": "bash"
  },
  "language_info": {
   "codemirror_mode": "shell",
   "file_extension": ".sh",
   "mimetype": "text/x-sh",
   "name": "bash"
  }
 },
 "nbformat": 4,
 "nbformat_minor": 4
}
