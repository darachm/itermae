{
 "cells": [
  {
   "cell_type": "markdown",
   "metadata": {},
   "source": [
    "## Notebook of demos, tutorial\n",
    "\n",
    "by Darach, @darachm\n",
    "\n",
    "This notebook is intended to give new users an idea of how `itermae` works to \n",
    "accomplish basic parsing, how to debug its usage, how to run it in parallel, \n",
    "and how to use multiple matches to do more complex parsing and filtering.\n",
    "\n",
    "It is intended to be run in the `itermae` repository, so it can access the \n",
    "example data and config files in that repo. Uses the `bash_kernel`, of course.\n",
    "\n",
    "Any commentary or feedback on this tool or documentation would be very valuable \n",
    "and very welcome, so please reach out if you have the time to do so.\n",
    "Submit an [issue on Gitlab](https://gitlab.com/darachm/itermae/-/issues)."
   ]
  },
  {
   "cell_type": "markdown",
   "metadata": {},
   "source": [
    "## Table of contents:\n",
    "\n",
    "1. [The idea](#idea)\n",
    "1. [Installation](#install)\n",
    "1. [Quickstart](#quickstart)\n",
    "1. [Detailed usage](#usage)\n",
    "\n",
    "    1. [Input/output, formats and failed/report files](#io)\n",
    "    1. [Matches and how to write](#matches)\n",
    "    1. [Outputs, filtering and constructing](#outputs)\n",
    "\n",
    "2. [Debugging](#operations)\n",
    "3. Parallel chopping, intended usage\n",
    "4. Multiple operations"
   ]
  },
  {
   "cell_type": "markdown",
   "metadata": {},
   "source": [
    "## The idea <a id=\"idea\" />"
   ]
  },
  {
   "cell_type": "markdown",
   "metadata": {},
   "source": [
    "We'd like a robust tool to parse DNA amplicon-sequencing of \n",
    "datasets that use complex DNA barcoding architectures.\n",
    "Often, positional information is used to extract these. This can\n",
    "frequently fail in extracting the wrong sequence due to random\n",
    "or systematic deviation from the expectation --\n",
    "DNA sequence (especially degenerately\n",
    "synthesized/cloned sequence) is mutable both due to technical\n",
    "errors (in PCR and sequencing) or biological mutagenesis. \n",
    "Both variable lengths of barcodes or technical \n",
    "insertion/deletion errors can throw an entire read out of frame,\n",
    "hence regular-expression based methods can be used to extract \n",
    "patterns from reads. However, these are brittle to substitition\n",
    "errors in the \"fixed\" sequences if error-tolerant (ie 'fuzzy')\n",
    "regular expressions are not used. \n",
    "These can result in artifactual matches, such pattern matches in \n",
    "very different positions of the read, unless these are composed\n",
    "with filtering steps and/or multiple matching operations to make\n",
    "higher-level comparisons.\n",
    "But, generating a single large fuzzy regular expression is \n",
    "difficult, and complex filtering or look-back/forward expressions \n",
    "may be difficult for non-expert users to write, debug, and update.\n",
    "\n",
    "The aim of the tool is to allow a user to flexibily apply multiple\n",
    "fuzzy regular-expressions to a sequence-record, in series on the\n",
    "same read, and then flexibily filter and build outputs based on \n",
    "what matches. For example, here is one FASTQ read with relevant\n",
    "patterns extracted and re-arranged for downstream use, all using\n",
    "fuzzy regular expressions."
   ]
  },
  {
   "attachments": {
    "parse_diagram_1.svg": {
     "image/svg+xml": [
      "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"
     ]
    }
   },
   "cell_type": "markdown",
   "metadata": {},
   "source": [
    "![parse_diagram_1.svg](attachment:parse_diagram_1.svg)"
   ]
  },
  {
   "cell_type": "markdown",
   "metadata": {},
   "source": [
    "There are three main groups of options to configure:\n",
    "\n",
    "- Input/Output logistics : what formats to read and write, and to where\n",
    "- Matches : what matches to apply, to what groups, what groups to \n",
    "  capture, and how error-tolerant to be\n",
    "- Outputs : how to filter reads and what outputs to construct from\n",
    "  matched groups\n",
    "  \n",
    "Below I detail what options are available, how to specify them,\n",
    "and a recommended strategy to tune the options and use the tool."
   ]
  },
  {
   "cell_type": "markdown",
   "metadata": {},
   "source": [
    "## Install\n",
    "\n",
    "Install `itermae` with pip."
   ]
  },
  {
   "cell_type": "code",
   "execution_count": null,
   "metadata": {},
   "outputs": [],
   "source": [
    "python3 -m pip install itermae"
   ]
  },
  {
   "cell_type": "markdown",
   "metadata": {},
   "source": [
    "You can also build and install the package from inside the repository, by using \n",
    "the `make install` command. \n",
    "\n",
    "Package requirements (beyond base Python >= 3.6) are listed in\n",
    "`requirements.txt`, including `pytest` for development and testing."
   ]
  },
  {
   "cell_type": "markdown",
   "metadata": {},
   "source": [
    "I also recommend installing [GNU `parallel`](https://www.gnu.org/software/parallel/),\n",
    "as this utility allows you to easily parallelize text-based file inputs. \n",
    "`itermae` was designed for the use-case of a sequencing input file being fed by\n",
    "`parallel` through a bash pipe into the STDIN of `itermae`.\n",
    "\n",
    "I recommend you [install parallel from source](https://ftp.gnu.org/gnu/parallel/) \n",
    "or use the [Singularity image for itermae](https://singularity-hub.org/collections/4537), \n",
    "as some package managers (ie ubuntu) are woefully unmaintained."
   ]
  },
  {
   "cell_type": "markdown",
   "metadata": {},
   "source": [
    "## Quickstart <a id=\"quickstart\" />"
   ]
  },
  {
   "cell_type": "markdown",
   "metadata": {},
   "source": [
    "Copy and modify the below command. \n",
    "\n",
    "- You can change the `-N 1000` to reflect how many records to \n",
    "  feed into the script at a time.\n",
    "  \n",
    "- Edit the config file to specify the input/output formats,\n",
    "  the matches executed, and how the outputs are filtered and\n",
    "  formed from these matches.\n",
    "  \n",
    "More options, and `parallel` crash-course usage, are detailed later."
   ]
  },
  {
   "cell_type": "code",
   "execution_count": 48,
   "metadata": {},
   "outputs": [
    {
     "name": "stdout",
     "output_type": "stream",
     "text": [
      "NB501157:100:H5J5LBGX2:1:11101:10000:10043\t0\t*\t0\t255\t*\t=\t0\t0\tTCAGTCGTAGCAGTTCGATG\tEEEEEEEEEEEEEEEEEEEE\tIE:Z:0\n",
      "NB501157:100:H5J5LBGX2:1:11101:10000:10043\t0\t*\t0\t255\t*\t=\t0\t0\tTTCAC\tAAAAA\tIE:Z:1\n",
      "NB501157:100:H5J5LBGX2:1:11101:10000:10043_TTCAC\t0\t*\t0\t255\t*\t=\t0\t0\tTTCACXTCAGTXTCAGTCGTAGCAGTTCGATG\tAAAAAIEEEEEIEEEEEEEEEEEEEEEEEEEE\tIE:Z:2\n",
      "NB501157:100:H5J5LBGX2:1:11101:10000:10138\t0\t*\t0\t255\t*\t=\t0\t0\tTGGGCAGACACAACGCTACA\tEEEEEEEEEEEEEEEEEEEE\tIE:Z:0\n",
      "NB501157:100:H5J5LBGX2:1:11101:10000:10138\t0\t*\t0\t255\t*\t=\t0\t0\tGCTTC\tAAAAA\tIE:Z:1\n",
      "NB501157:100:H5J5LBGX2:1:11101:10000:10138_GCTTC\t0\t*\t0\t255\t*\t=\t0\t0\tGCTTCXTGGGCXTGGGCAGACACAACGCTACA\tAAAAAIEEEEEIEEEEEEEEEEEEEEEEEEEE\tIE:Z:2\n",
      "NB501157:100:H5J5LBGX2:1:11101:10000:16613\t0\t*\t0\t255\t*\t=\t0\t0\tGACAGACTGATAACCCTTGC\tEEEEEEEEEEEEEEEEEEEE\tIE:Z:0\n",
      "NB501157:100:H5J5LBGX2:1:11101:10000:16613\t0\t*\t0\t255\t*\t=\t0\t0\tGCTTC\tAAAAA\tIE:Z:1\n",
      "NB501157:100:H5J5LBGX2:1:11101:10000:16613_GCTTC\t0\t*\t0\t255\t*\t=\t0\t0\tGCTTCXGACAGXGACAGACTGATAACCCTTGC\tAAAAAIEEEEEIEEEEEEEEEEEEEEEEEEEE\tIE:Z:2\n",
      "NB501157:100:H5J5LBGX2:1:11101:10000:19701\t0\t*\t0\t255\t*\t=\t0\t0\tGATGCACTGCGTTCCATGTT\tEEEEEEEEEEEEEEEEEEEE\tIE:Z:0\n"
     ]
    }
   ],
   "source": [
    "zcat itermae/data/barseq.fastq.gz \\\n",
    "    | parallel --pipe -l 4 -N 1000 \\\n",
    "        itermae --config itermae/data/example_schema.yml \\\n",
    "    | head"
   ]
  },
  {
   "cell_type": "markdown",
   "metadata": {},
   "source": [
    "At minimum, you probably need to know how to use:\n",
    "\n",
    "* i/o\n",
    "* matches\n",
    "* output"
   ]
  },
  {
   "cell_type": "markdown",
   "metadata": {},
   "source": [
    "## Detailed usage <a id=\"usage\" />"
   ]
  },
  {
   "cell_type": "markdown",
   "metadata": {},
   "source": [
    "Everything can be configured on command-line arguments or in a\n",
    "YAML config file.\n",
    "\n",
    "Here's an example with command-line arguments, which requires writing\n",
    "raw regular expressions:"
   ]
  },
  {
   "cell_type": "code",
   "execution_count": 54,
   "metadata": {},
   "outputs": [
    {
     "name": "stdout",
     "output_type": "stream",
     "text": [
      "\n",
      "gzip: stdout: Broken pipe\n",
      ">NB501157:100:H5J5LBGX2:1:11101:10000:10043_TTCAC\n",
      "TCAGTCGTAGCAGTTCGATG\n",
      ">NB501157:100:H5J5LBGX2:1:11101:10000:10138_GCTTC\n",
      "TGGGCAGACACAACGCTACA\n"
     ]
    }
   ],
   "source": [
    "zcat itermae/data/barseq.fastq.gz | head -n 8 \\\n",
    "    | itermae -m 'input > (?P<sampleIndex>[ATCGN]{5,5})(?P<prefix>GTCCACGAGGTCTCT){e<=2}(?P<barcode>[ATCGN]{18,22})(?P<untitled_1>CGTACGCTG){i<=1,d<=2,s<=2}' \\\n",
    "            -os 'barcode' -oi 'input.id+\"_\"+sampleIndex.seq' \\\n",
    "            -of 'barcode.length >= 17 and sampleIndex.length >= 3' \\\n",
    "            --output-format fasta "
   ]
  },
  {
   "cell_type": "markdown",
   "metadata": {},
   "source": [
    "Alternatively, you can specify a YAML/YML configuration file:"
   ]
  },
  {
   "cell_type": "code",
   "execution_count": 56,
   "metadata": {},
   "outputs": [
    {
     "name": "stdout",
     "output_type": "stream",
     "text": [
      "\n",
      "gzip: stdout: Broken pipe\n",
      ">NB501157:100:H5J5LBGX2:1:11101:10000:10043_TTCAC\n",
      "TCAGTCGTAGCAGTTCGATG\n",
      ">NB501157:100:H5J5LBGX2:1:11101:10000:10138_GCTTC\n",
      "TGGGCAGACACAACGCTACA\n"
     ]
    }
   ],
   "source": [
    "zcat itermae/data/barseq.fastq.gz | head -n 8 \\\n",
    "    | itermae --config itermae/data/tutorial_example.yml"
   ]
  },
  {
   "cell_type": "markdown",
   "metadata": {},
   "source": [
    "This is simpler, although it requires specifying a more bulky\n",
    "configuration file, like so:"
   ]
  },
  {
   "cell_type": "markdown",
   "metadata": {},
   "source": [
    "```\n",
    "matches:\n",
    "    -   use: input\n",
    "        pattern: NGTCCACGAGGTCTCTNCGTACGCTG \n",
    "        marking: ABBBBBBBBBBBBBBBCDDDDDDDDD \n",
    "        marked_groups:\n",
    "            A:\n",
    "                name: sampleIndex\n",
    "                repeat: 5\n",
    "            B:\n",
    "                name: prefix\n",
    "                allowed_errors: 2\n",
    "            C:\n",
    "                name: barcode\n",
    "                repeat_min: 18\n",
    "                repeat_max: 22\n",
    "            D:  \n",
    "                allowed_insertions: 1\n",
    "                allowed_deletions: 2\n",
    "                allowed_substititions: 2\n",
    "\n",
    "output: \n",
    "    format: fasta \n",
    "    list: \n",
    "        -   name: output\n",
    "            filter: 'barcode.length >= 17 and sampleIndex.length >= 3'\n",
    "            id:  'input.id+\"_\"+sampleIndex.seq'\n",
    "            seq: 'barcode'\n",
    "```"
   ]
  },
  {
   "cell_type": "markdown",
   "metadata": {},
   "source": [
    "Below are details of the options available and how to specify them in both formats.\n",
    "The notation\n",
    "\n",
    "     [...]\n",
    "\n",
    "denotes various other arguments necessary to run that I have left out so that\n",
    "I can just point your attention to the relevant argument."
   ]
  },
  {
   "cell_type": "markdown",
   "metadata": {},
   "source": [
    "### Input and output options <a id=\"io\"/>"
   ]
  },
  {
   "cell_type": "markdown",
   "metadata": {},
   "source": [
    "#### What format are the input records in, and what format to write outputs in?\n",
    "\n",
    "`itermae` makes no attempt to auto-detect formats.\n",
    "The default is 'fastq' for input and 'sam' for output.\n",
    "This tool handles:\n",
    "  \n",
    "  - 'FASTQ' files.\n",
    "  - 'FASTA' files, where per-base quality scores are assumed to be the\n",
    "      maximum value.\n",
    "  - 'SAM' files. For input, all flags are ignored and not included in the \n",
    "      outputs. Similarlly, all alignment information is forgotten.\n",
    "  - 'TXT files, where there is a single sequence per line. This ID of\n",
    "      the record is defined by the sequence, and all qualities are \n",
    "      assumed to be the maximum value.\n",
    "  - Any other format that BioPython SeqIO will recognize.\n",
    "  \n",
    "The format string for specifying is case-insensitive.\n",
    "    \n",
    "Specify with the command-line argument `--input-format`, `--output-format`,\n",
    "or set the YAML key `format:` inside the `input:` or `output:` blocks. Ex:\n",
    "\n",
    "    itermae --input-format sam --output-format fasta [...]\n",
    "\n",
    "or in a config file\n",
    "\n",
    "    input:\n",
    "        format: sam\n",
    "    output:\n",
    "        format: fasta"
   ]
  },
  {
   "cell_type": "markdown",
   "metadata": {},
   "source": [
    "#### Input source - where are the input reads coming from?\n",
    "\n",
    "The default is 'STDIN', which specifies to expect reads to be piped (\"`|`\")\n",
    "in to the tool. Alternatively you can specify a file path to open.\n",
    "    \n",
    "Specify with the command-line argument `--input` or `-i`, or set the YAML \n",
    "key `from:` inside the `input:` block. Ex:\n",
    "\n",
    "    cat itermae/data/barseq.fastq | itermae [...]\n",
    "    \n",
    "to use the default STDIN, or\n",
    "\n",
    "    itermae --input itermae/data/barseq.fastq [...]\n",
    "or\n",
    "\n",
    "    itermae -i itermae/data/barseq.sam --input-format sam [...]\n",
    "    \n",
    "or in a config file\n",
    "\n",
    "    from:\n",
    "        input: itermae/data/barseq.fasta\n",
    "        format: fasta"
   ]
  },
  {
   "cell_type": "markdown",
   "metadata": {},
   "source": [
    "#### Output target - where to send the successfully formed and  passing-filter outputs?\n",
    "\n",
    "The default is 'STDOUT' to then be compressed, written, or further processed.\n",
    "Alternatively you can specify a file path to open.\n",
    "Messages from the `--verbose` command are output to 'STDERR' to not conflict\n",
    "with 'STDOUT'.\n",
    "  \n",
    "Specify with the command-line argument `--output` or `-o`, or set the YAML \n",
    "key `to:` inside the `output:` block. Ex:\n",
    "\n",
    "    itermae [...] > itermae_output_file.sam\n",
    "\n",
    "to use the default STDOUT, or\n",
    "\n",
    "    itermae --output itermae_output_file.fasta --output-format fasta [...]\n",
    "\n",
    "or in a config file\n",
    "\n",
    "    output:\n",
    "        to: itermae_output_file.fastq\n",
    "        format: fastq"
   ]
  },
  {
   "cell_type": "markdown",
   "metadata": {},
   "source": [
    "#### Is the input file gzip compressed?\n",
    "\n",
    "The default is no. Files specified can be gzipped, but of course the\n",
    "default 'STDIN' cannot be piped in as compressed (pass through `zcat`).\n",
    "   \n",
    "Specify with the command-line argument `--gzipped` or `-z`, \n",
    "or set the YAML key `gzipped:` inside the `input:` block to \n",
    "`true` or `false`. Ex:\n",
    "\n",
    "    itermae --input itermae/data/barseq.fastqz --gzipped [...] \n",
    "\n",
    "or\n",
    "\n",
    "    zcat itermae/data/barseq.fastqz | itermae [...] \n",
    "    \n",
    "or in a config file\n",
    "\n",
    "    from:\n",
    "        input: itermae/data/barseq.fastqz\n",
    "        gzipped: true\n"
   ]
  },
  {
   "cell_type": "markdown",
   "metadata": {},
   "source": [
    "#### Write failed reads to a file to save?\n",
    "\n",
    "Reads are considered failed if they do not pass all output filters.\n",
    "If so, they original input read is written, in FASTQ format, to a path \n",
    "specified with the option `--failed` or `-f`. No path, no output.\n",
    "Or, use the YAML key `failed:` in the `output:` block. Ex:\n",
    "\n",
    "    itermae --failed failed.fastq [...]\n",
    "\n",
    "or in the config file\n",
    "\n",
    "    output:\n",
    "        failed: failed.fastq"
   ]
  },
  {
   "cell_type": "markdown",
   "metadata": {},
   "source": [
    "#### Write a report with per-read pass/fail decisions and match statistics?\n",
    "\n",
    "While debugging and tuning arguments, it can be useful to have a detailed\n",
    "per-read report of match statistics. This is recommended to only do on\n",
    "a small subset of the data, since this is a large (per read) output.\n",
    "\n",
    "To generate this, specify a path in which to generate a report CSV file\n",
    "using the `--report` or `-r` arguments. Or, use the YAML key `report:` \n",
    "in the `output:` block. Ex:\n",
    "\n",
    "    head -n 1000 itermae/data/barseq.fastq | itermae --report report.csv [...]\n",
    "\n",
    "or in the config file\n",
    "\n",
    "    output:\n",
    "        report: report.csv"
   ]
  },
  {
   "cell_type": "markdown",
   "metadata": {},
   "source": [
    "### Matches  <a id=\"matches\"/>\n",
    "\n",
    "Matches are the heart of the tool. `itermae` simply uses the `regex` library,\n",
    "and is essentially a utility to arrange `regex` fuzzy expression matches on\n",
    "`Biopython SeqIO` objects such that the groups are handled well and\n",
    "filtered/formatted appropriately for amplicon sequencing analyses.\n",
    "\n",
    "However, exposing this flexibility makes its use complicated. There are two\n",
    "ways of defining it - the YAML method may be simplier if you're not used to\n",
    "regular expressions.\n",
    "\n",
    "- With command-line :\n",
    "\n",
    "  This can be specified on the command-line as one match per each argument\n",
    "  of `-m` or `--match`. This requires that you write a regular expression\n",
    "  such that capture groups are named using the \n",
    "  `(?P<nameOfCaptureGroup>ATCGgroupPatternATCG)` syntax, and can use the\n",
    "  `regex` fuzzy matching denotations such as, for example `{e<=2}` to \n",
    "  permit 2 or fewer errors in the preceeding match group. \n",
    "  \n",
    "  See examples, or [`regex` package documentation](https://pypi.org/project/regex/)\n",
    "  for the details and authoritative documentation!\n",
    "  \n",
    "        \n",
    "- With YAML config file:\n",
    "    \n",
    "  Alternatively, the YML configuration mode offers a simpler although more\n",
    "  bulky syntax. Inside a YML configuration file, you specify a dictionary\n",
    "  with the `matches:` top-level key. Inside this, using indented `-`'s,\n",
    "  you specify an array of matches. For each, they need a value behind the\n",
    "  key `use:` to denote what is matched against (by default `input`). These\n",
    "  can groups captured from previous matches. Here's an example:\n",
    "  \n",
    "    matches:\n",
    "      -   use: input\n",
    "          pattern: NGTCCACGAGGTCTCTNCGTACGCTG \n",
    "          marking: ABBBBBBBBBBBBBBBCDDDDDDDDD \n",
    "          marked_groups:\n",
    "              A:\n",
    "                  name: sampleIndex\n",
    "                  repeat: 5\n",
    "              B:\n",
    "                  name: prefix\n",
    "                  allowed_errors: 2\n",
    "              C:\n",
    "                  name: barcode\n",
    "                  repeat_min: 18\n",
    "                  repeat_max: 22\n",
    "              D:  \n",
    "                  allowed_insertions: 1\n",
    "                  allowed_deletions: 2\n",
    "                  allowed_substititions: 2\n",
    "  \n",
    "  Inside each match, \n",
    "  you specify the pattern to match behind the key `pattern:`. This\n",
    "  recognizes IUPAC codes, so `A` is `A`, while `R` matches `A` or `G`.\n",
    "  Additionally `*` matches zero or more of anything, while `+` matches one \n",
    "  or more of anything.\n",
    "  \n",
    "  For each character of the pattern, you also need to specify a `marking:`\n",
    "  string specifying what group each character belongs to. This must be the\n",
    "  same length as the `pattern:`, and each different character denotes a \n",
    "  different group.\n",
    "  \n",
    "  See the above example, it\n",
    "  denotes a pattern of group `A` with any base, group `B` with a specific\n",
    "  sequence, group `C` with any base, and group `D` with a specific sequence.\n",
    "  \n",
    "  The in a key `marked_groups:` you can specify for each of these groups\n",
    "  what the parameters of the match are. Specifically, you can give the\n",
    "  group a `name:` when matched, you can denote that the group must `repeat:`\n",
    "  a certain number of times or a `repeat_min:` and `repeat_max:` number of\n",
    "  times. You can set permissible errors with `allowed_errors:`, or specify\n",
    "  this for specific types of errors - `allowed_insertions:`, \n",
    "  `allowed_deletions:`, `allowed_substitutions:`.\n",
    "  \n",
    "  Thus, this is roughly equivalent to the fuzzy regular expression:\n",
    "  \n",
    "      (?P<sampleIndex>[ATCGN]{5,5})(?P<prefix>GTCCACGAGGTCTCT){e<=2}(?P<barcode>[ATCGN]{18,22})(?P<untitled_1>CGTACGCTG){i<=1,d<=2,s<=2}'\n",
    "\n",
    "  Note that it is broken onto multiple lines due to length.\n",
    "  \n",
    "  \n",
    "Then there's the regular expression. These are complex, and `itermae` is designed to expose this complexity \n",
    "to the user directly so that you can do more with the tool! Here, I will try to explain a cookbook/copy-paste \n",
    "version that you can use if you're new to regexes and need to trial-and-error the result you want:\n",
    "\n",
    "The pattern you define is matched against the read. So the pattern `.` will match one letter of anything, \n",
    "which is why I used it in the above examples (it always matches!). Putting an `ATCG` will only match when\n",
    "there's exactly a `ATCG` in the read, anywhere in the read, but exactly those four letters in that sequence.\n",
    "If you want to only one character of DNA, you can use `[ATCG]` to match any one of those four letters. \n",
    "*Always use uppercase for `itermae`!* If you want to include `N`, you can do that with `[ATCGN]`. \n",
    "\n",
    "To match two letters, you could write `[ATCGN][ATCGN]`, or more easily `[ATCGN]{2,2}`. \n",
    "The `{}` braces help you specify how many to match. \n",
    "You can specify one number `{2,2}`, or a range `{2,5}`.\n",
    "So for a DNA barcode of length 18-22 bases, you may want to specify `[ATCGN]{18,22}`.\n",
    "\n",
    "`(` `)` parentheses are used to denote groups, like they're used in math. \n",
    "Capture groups use these `()` but also use `?P` and `<>` brackets to name the group. \n",
    "A named capture group uses notation like `(?P<barcode>[ATCGN]{18,22})`, where \n",
    "`(?P<` is the start, `barcode` is the name of the group, and the group is whatever \n",
    "matches to `[ATCGN]{18,22}`, until the `)`. It's complex syntax, but necessary to clearly\n",
    "denote what is the name of the group and what is the group.\n",
    "\n",
    "To match this barcode only when it is between defined sequences, for example priming sites, you can use a more\n",
    "complex pattern like `GGTCTCT(?P<barcode>[ATCGN]{18,22})CGTACGCT`. This matches a sequence where:\n",
    "- There is a `GGTCTCT`\n",
    "- then 18 to 22 bases of either A, T, C, G, or N\n",
    "- then `CGTACGCT`\n",
    "\n",
    "Crucially, it then saves that center 18 to 22 bases as a group named `barcode`.\n",
    "That means you can then only output that group, or you can put it into the output ID, or you can even match\n",
    "other operation patterns against _just that group_.\n",
    "\n",
    "For example (using a `\\` to continue it onto a new line):"
   ]
  },
  {
   "cell_type": "markdown",
   "metadata": {},
   "source": [
    "#### fuzzy-ness in regular expressions\n",
    "\n",
    "Fuzzy means error-tolerant. \n",
    "However, errors are common in sequencing. Substitutions, whether they come from a mutation, PCR misincorporation,\n",
    "or erroneous basecall can interfere with your ability to use defined sequence to parse your read.\n",
    "Indels are rarer in Illumina sequencing, but any indel early will affect the position of the later sequence.\n",
    "Barcode/amplicon libraries also have size heterogeneity from construction and propogation.\n",
    "\n",
    "To handle this, we can use \"fuzzy\" regular expressions. These are regular expressions, but they're approximate.\n",
    "This can tolerate errors of single-base changes or errors in length. `itermae` uses the `regex` module to do\n",
    "fuzzy regular expression matching. This is an excellent library that provides a new syntax to specify\n",
    "\"fuziness\" of a group.\n",
    "\n",
    "To write the above example in another way, we add after the group the modifier `{e<=1}`. \n",
    "This means that less-than-or-equal to 1 errors of any kind (insertion, deletion, substitution) are tolerated\n",
    "in the previous group.\n",
    "So we can change our operation to `input > (GGTCTCT){e<=1}(?P<barcode>[ATCGN]{18,22})\"`, and this will\n",
    "tolerate one or fewer errors in the `GGTCTCT` just in front of the barcode. Note the parentheses are necessary."
   ]
  },
  {
   "cell_type": "markdown",
   "metadata": {},
   "source": [
    "## Multiple operations\n",
    "\n",
    "You can add multiple operations. Each sequential operation added on in the command line is executed\n",
    "one after another. This allows you to take one capture group and search within it for more groups.\n",
    "The big advantage of this is speed (less combinatorial complexity of mismatches and degeneracy)\n",
    "and less complicated regular expressions.\n",
    "\n",
    "For example, here's the above example but broken into two operations. The first takes the sample index, the\n",
    "second takes the barcode. Note that I introduce using `*` to mean 0 or more (usually much more) of `[ATCGN]`.\n",
    "Also, I put the `CTCCACGAG` group, with an error `{e<=1}` expression, inside the `rest` capture group."
   ]
  },
  {
   "cell_type": "code",
   "execution_count": null,
   "metadata": {},
   "outputs": [],
   "source": [
    "cat itermae/data/toy.fastq | itermae \\\n",
    "        -o \"input > (?P<sampleIndex>[ATCGN]{5,5})(?P<rest>(GTCCACGAG){e<=1}[ATCGN]*)\" \\\n",
    "        -o \"rest  > (GTCCACGAGGTCTCT){e<=2}(?P<barcode>[ATCGN]{18,22})(CGTACGCTG){e<=1}\" \\\n",
    "        -oseq \"barcode\" -oid \"input.id+\\\"_\\\"+sampleIndex.seq\" -of \"fasta\""
   ]
  },
  {
   "cell_type": "markdown",
   "metadata": {},
   "source": [
    "Note that you can also use multiple outputs. For example, here I'll output the barcode with and without\n",
    "the priming sites around it."
   ]
  },
  {
   "cell_type": "code",
   "execution_count": null,
   "metadata": {},
   "outputs": [],
   "source": [
    "cat itermae/data/toy.fastq | itermae \\\n",
    "        -o \"input > (?P<sampleIndex>[ATCGN]{5,5})(?P<rest>(GTCCACGAG){e<=1}[ATCGN]*)\" \\\n",
    "        -o \"rest  > (?P<upPrime>GTCCACGAGGTCTCT){e<=2}(?P<barcode>[ATCGN]{18,22})(?P<downPrime>CGTACGCTG){e<=1}\" \\\n",
    "        -oseq \"barcode\" -oid \"input.id+\\\"_\\\"+sampleIndex.seq\" \\\n",
    "        -oseq \"upPrime+barcode+downPrime\" -oid \"input.id+\\\"_withFixedFlanking_\\\"+sampleIndex.seq\" \\\n",
    "        -of \"fasta\""
   ]
  },
  {
   "cell_type": "markdown",
   "metadata": {},
   "source": [
    "Doesn't that look nicer? And it runs a bit faster, since you don't use combinations of searching for all\n",
    "possible errors if the from and back parts, especially with complex parsing schemes."
   ]
  },
  {
   "cell_type": "code",
   "execution_count": null,
   "metadata": {},
   "outputs": [],
   "source": [
    "cat itermae/data/toy.fastq \\\n",
    "    | itermae -o \"input > (GGTCTCT){e<=1}(?P<barcode>[ATCGN]{18,22})CGTACG\" -oseq \"barcode\" -of \"fasta\""
   ]
  },
  {
   "cell_type": "code",
   "execution_count": null,
   "metadata": {},
   "outputs": [],
   "source": [
    "cat itermae/data/toy.fastq \\\n",
    "    | itermae -o \"input > (?P<fixed>GGTCTCT){e<=1}(?P<barcode>[ATCGN]{18,22})\" -oseq \"fixed\" -of \"fasta\""
   ]
  },
  {
   "cell_type": "markdown",
   "metadata": {},
   "source": [
    "So there's a `GGTCTAT` in there, the second one. \n",
    "\n",
    "I can also append this group to the input ID, and then have the barcode be\n",
    "the main output sequence again. Note that changing the ID means you have to access attributes like \n",
    "`.id` or `.seq` from each captured group, as they're handled like BioPython SeqRecords internally. \n",
    "And the below also puts a `+'_'+` between them for readability."
   ]
  },
  {
   "cell_type": "code",
   "execution_count": null,
   "metadata": {},
   "outputs": [],
   "source": [
    "cat itermae/data/toy.fastq \\\n",
    "    | itermae -o \"input > (?P<fixed>GGTCTCT){e<=1}(?P<barcode>[ATCGN]{18,22})\" \\\n",
    "        -oseq \"barcode\" -oid \"input.id+'_'+fixed.seq\" -of \"fasta\""
   ]
  },
  {
   "cell_type": "markdown",
   "metadata": {},
   "source": [
    "You can build on this to make it more complex. These particular reads actually have a five base index \n",
    "at the beginning that denotes the sample, so below I'll extract that and append it to the read ID, then output\n",
    "the barcode, while fuzzy matching the priming sites."
   ]
  },
  {
   "cell_type": "code",
   "execution_count": null,
   "metadata": {},
   "outputs": [],
   "source": [
    "cat itermae/data/toy.fastq \\\n",
    "    | itermae \\\n",
    "        -o \"input > (?P<sampleIndex>[ATCGN]{5,5})(GTCCACGAGGTCTCT){e<=2}(?P<barcode>[ATCGN]{18,22})(CGTACGCTG){e<=1}\" \\\n",
    "        -oseq \"barcode\" -oid \"input.id+'_'+sampleIndex.seq\" -of \"fasta\""
   ]
  },
  {
   "cell_type": "markdown",
   "metadata": {},
   "source": [
    "This should get you going, but regular expressions are a powerful and common feature in programming and \n",
    "analysis. For more, I recommend you search for \"python regular expression tutorial\" \n",
    "or the like and read a few articles that talk about this, then consult the `regex` package documentation \n",
    "for more information about those specific modifiers."
   ]
  },
  {
   "cell_type": "markdown",
   "metadata": {},
   "source": [
    "### Output filtering and forming\n",
    "\n",
    "What to output to the output?\n",
    "\n",
    "\n",
    "- With command-line :\n",
    "\n",
    "  This can be specified on the command-line as one match per each argument\n",
    "  of `-m` or `--match`. This requires that you write a regular expression\n",
    "  such that capture groups are named using the \n",
    "  "
   ]
  },
  {
   "cell_type": "markdown",
   "metadata": {},
   "source": [
    "#### filters\n",
    "A more useful example would be filtering on quality. Those are accessible by accessing the\n",
    "`.quality` attribute of the sequence in question. \n",
    "\n",
    "You can also access other attributes of each group using\n",
    "that name (the group name).\n",
    "( Internally, this references an object with attributes of `start`, `end`,\n",
    "`length`, `quality`, and `seq`.)\n",
    "You can use these together in filters. You can't filter on the raw `input`,\n",
    "(or on `dummyspacer` for that matter).\n",
    "See `apply_filter()` function in the `__init__.py` file for details.\n",
    "\n",
    "To make building these easier, the `statistics` package is loaded. \n",
    "So you can do things like filtering on\n",
    "`min(barcode.quality) >= 33` or `statistics.median(barcode.quality) > 34 and barcode.length >= 16`.\n",
    "\n",
    "For debugging, you can print the thing you're filtering and see that spit\n",
    "out. So something like `print(statistics.median(barcode.quality))`\n",
    "(this is using `eval` directly by the way, so be responsible)."
   ]
  },
  {
   "cell_type": "code",
   "execution_count": null,
   "metadata": {},
   "outputs": [],
   "source": [
    "cat itermae/data/toy.fastq \\\n",
    "    | itermae \\\n",
    "        -o \"input > (?P<sampleIndex>[ATCGN]{5,5})(GTCCACGAGGTCTCT){e<=2}(?P<barcode>[ATCGN]{18,22})(CGTACGCTG){e<=1}\" \\\n",
    "        -oseq \"barcode\" -oid \"input.id+'_'+sampleIndex.seq\" -of \"fasta\" \\\n",
    "        --filter \"barcode.start == 20 and barcode.length == 20\""
   ]
  },
  {
   "cell_type": "code",
   "execution_count": null,
   "metadata": {},
   "outputs": [],
   "source": [
    "cat itermae/data/toy.fastq \\\n",
    "    | itermae \\\n",
    "        -o \"input > (?P<sampleIndex>[ATCGN]{5,5})(GTCCACGAGGTCTCT){e<=2}(?P<barcode>[ATCGN]{18,22})(CGTACGCTG){e<=1}\" \\\n",
    "        -oseq \"barcode\" -oid \"input.id+'_'+sampleIndex.seq\" -of \"fastq\" \\\n",
    "        --filter \"statistics.median(barcode.quality) >= 34 and min(barcode.quality) < 36\""
   ]
  },
  {
   "cell_type": "markdown",
   "metadata": {},
   "source": [
    "## Debugging\n",
    "\n",
    "A lot of what `itermae` is doing depends on the regular expressions, so it can get a bit complex and debugging\n",
    "effectively is important. One strategy is to take a sample of reads\n",
    "from the middle of the file (or at least not the first ~100,000 of a FASTQ file) and feed in a hundred or so reads\n",
    "at a time to see how it works.\n",
    "\n",
    "To help instrument how the operations you define are working, there's a `--report` feature.\n",
    "This argument specifies a file path where `itermae` will generate a report for each read, reporting if it was\n",
    "successful or not, what the input read was, what filters it passed and where it matched.\n",
    "\n",
    "There's also a `--failed` argument, a path where `itermae` puts the failed reads (for whatever reason)\n",
    "for later inspection.\n",
    "\n",
    "Additionally, there's `-v` or `--verbose` arguments. One outputs information about the run to standard error\n",
    "(so that standard output still works fine for piping output), and additional `-v`'s added on increase the level\n",
    "of reporting to individual reads and individual operations.\n",
    "\n",
    "Here's an example with the first level of verbosity, and outputing a report and failed reads file."
   ]
  },
  {
   "cell_type": "code",
   "execution_count": null,
   "metadata": {},
   "outputs": [],
   "source": [
    "cat itermae/data/toy.fastq | itermae \\\n",
    "        -o \"input > (?P<sampleIndex>[ATCGN]{5,5})(GTCCACGAGGTCTCT){e<=2}(?P<barcode>[ATCGN]{18,22})(CGTACGC){e<=1}\" \\\n",
    "        -oseq \"barcode\" -oid \"input.id+'_'+sampleIndex.seq\" -of \"sam\" \\\n",
    "        --report report.csv --failed failed.fastq -v \\\n",
    "    > out.sam\n",
    "\n",
    "head out.sam\n",
    "rm out.sam\n",
    "\n",
    "echo \"The report:\"\n",
    "head -n 4 report.csv\n",
    "rm report.csv\n",
    "echo\n",
    "echo \"The first of the failed reads:\"\n",
    "head -n 4 failed.fastq\n",
    "rm failed.fastq"
   ]
  },
  {
   "cell_type": "markdown",
   "metadata": {},
   "source": [
    "We see the third record (at fake positions 10002) failed in not being able to for the output.\n",
    "We see the failed read, and see that it's lacking the pattern we're looking for.\n",
    "\n",
    "For the report CSV, the columns are:\n",
    "\n",
    "- passed or not\n",
    "- input ID\n",
    "- input sequence\n",
    "- output sequence, if successful\n",
    "- the result of any filters (later), which here is just True\n",
    "- a string that denotes each group matched, where it starts, ends, and length"
   ]
  },
  {
   "cell_type": "markdown",
   "metadata": {},
   "source": [
    "## Parallel chopping, intended usage\n",
    "\n",
    "### Input/output\n",
    "\n",
    "`itermae` is based on a previous tool, but this implementation has removed any pretense of trying to\n",
    "handle parallelization internally. Instead, this tool just takes a stream of standard in FASTQ and parses it.\n",
    "You can readily parallelize by using the command-line tool GNU `parallel` (yes I'll cite it).\n",
    "This designs limits complexity of code and prevents a certain _fuzzy_ memory leak...\n",
    "\n",
    "However, there is a single-thread ability to read from a file on disk using `--input`, and that can be indicated\n",
    "as being gzipped with the flag `-z`. Similarly, `itermae` is designed to output to standard output, but you can\n",
    "specify an output file with `--output`. \n",
    "\n",
    "Below is an example of using `parallel` to parallelize the above example, \n",
    "of course you'll need that installed and available:"
   ]
  },
  {
   "cell_type": "code",
   "execution_count": null,
   "metadata": {},
   "outputs": [],
   "source": [
    "cat itermae/data/toy.fastq \\\n",
    "    | parallel --pipe -L 4 \\\n",
    "        'itermae -o \"input > (?P<sampleIndex>[ATCGN]{5,5})(GTCCACGAGGTCTCT){e<=2}(?P<barcode>[ATCGN]{18,22})(CGTACGCTG){e<=1}\" \\\n",
    "            -oseq \"barcode\" -oid \"input.id+\\\"_\\\"+sampleIndex.seq\" -of \"fasta\" ' "
   ]
  },
  {
   "cell_type": "markdown",
   "metadata": {},
   "source": [
    "The `--pipe` arguement specifies to pipe the input into `itermae`, and do that in chunks of `-L` size.\n",
    "You will probably want to use a chunk size of 10-100 thousand, but do that in multiples of 4 (since it's a fastq)!\n",
    "So something like `parallel --pipe -L 40000` is what you'd want to use on real data.\n",
    "\n",
    "Then you put the `itermae` command in quotes. Here I've used `'` on the outside. Note that if I need to `\"`\n",
    "something inside an argument building the output sequence, I need to escape that with a `\\`.\n",
    "\n",
    "You can also restrict the jobs to run with arguments like `-j`, so consult the `parallel` manual for more info.\n",
    "I usually leave it to figure things out for me, and it makes full use of the machine."
   ]
  },
  {
   "cell_type": "markdown",
   "metadata": {},
   "source": [
    "80character ruler\n",
    "         X         X         X         X         X         X         X         X"
   ]
  }
 ],
 "metadata": {
  "kernelspec": {
   "display_name": "Bash",
   "language": "bash",
   "name": "bash"
  },
  "language_info": {
   "codemirror_mode": "shell",
   "file_extension": ".sh",
   "mimetype": "text/x-sh",
   "name": "bash"
  }
 },
 "nbformat": 4,
 "nbformat_minor": 4
}
