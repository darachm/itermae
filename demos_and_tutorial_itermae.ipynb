{
 "cells": [
  {
   "cell_type": "markdown",
   "metadata": {},
   "source": [
    "## Notebook of demos, tutorial\n",
    "\n",
    "by Darach, @darachm\n",
    "\n",
    "This notebook is intended to give new users an idea of how `itermae` works to \n",
    "accomplish basic parsing, how to debug its usage, how to run it in parallel, \n",
    "and how to use multiple matches to do more complex parsing and filtering.\n",
    "\n",
    "It is intended to be run in the `itermae` repository, so it can access the \n",
    "example data and config files in that repo. Uses the `bash_kernel`, of course.\n",
    "\n",
    "Any commentary or feedback on this tool or documentation would be very valuable \n",
    "and very welcome, so please reach out if you have the time to do so.\n",
    "Submit an [issue on Gitlab](https://gitlab.com/darachm/itermae/-/issues)."
   ]
  },
  {
   "cell_type": "markdown",
   "metadata": {},
   "source": [
    "## Table of contents:\n",
    "\n",
    "1. [Installation](#install)\n",
    "1. [Quickstart](#quickstart)\n",
    "1. [Usage](#usage)\n",
    "2. [Debugging](#operations)\n",
    "3. Parallel chopping, intended usage\n",
    "4. Multiple operations"
   ]
  },
  {
   "cell_type": "markdown",
   "metadata": {},
   "source": [
    "## Install\n",
    "\n",
    "Install `itermae` with pip."
   ]
  },
  {
   "cell_type": "code",
   "execution_count": null,
   "metadata": {},
   "outputs": [],
   "source": [
    "python3 -m pip install itermae"
   ]
  },
  {
   "cell_type": "markdown",
   "metadata": {},
   "source": [
    "You can also build and install the package from inside the repository, by using \n",
    "the `make install` command. \n",
    "\n",
    "Package requirements (beyond base Python >= 3.6) are listed in\n",
    "`requirements.txt`, including `pytest` for development and testing."
   ]
  },
  {
   "cell_type": "markdown",
   "metadata": {},
   "source": [
    "I also recommend installing [GNU `parallel`](https://www.gnu.org/software/parallel/),\n",
    "as this utility allows you to easily parallelize text-based file inputs. \n",
    "`itermae` was designed for the use-case of a sequencing input file being fed by\n",
    "`parallel` through a bash pipe into the STDIN of `itermae`.\n",
    "\n",
    "I recommend you [install parallel from source](https://ftp.gnu.org/gnu/parallel/) \n",
    "(scroll down to latest), as some package managers (ubuntu for example) have\n",
    "changed what the package named parallel contains or have version from years out\n",
    "of date. You can install from source, or use the \n",
    "[Singularity image for itermae](https://singularity-hub.org/collections/4537),\n",
    "which has `parallel` installed for use."
   ]
  },
  {
   "cell_type": "markdown",
   "metadata": {},
   "source": [
    "## Quickstart <a id=\"quickstart\" />"
   ]
  },
  {
   "cell_type": "markdown",
   "metadata": {},
   "source": [
    "Copy and modify the below command. \n",
    "\n",
    "- You can change the `-N 1000` to reflect how many records to \n",
    "  feed into the script at a time.\n",
    "  \n",
    "- Edit the config file to specify the input/output formats,\n",
    "  the matches executed, and how the outputs are filtered and\n",
    "  formed from these matches."
   ]
  },
  {
   "cell_type": "code",
   "execution_count": 48,
   "metadata": {},
   "outputs": [
    {
     "name": "stdout",
     "output_type": "stream",
     "text": [
      "NB501157:100:H5J5LBGX2:1:11101:10000:10043\t0\t*\t0\t255\t*\t=\t0\t0\tTCAGTCGTAGCAGTTCGATG\tEEEEEEEEEEEEEEEEEEEE\tIE:Z:0\n",
      "NB501157:100:H5J5LBGX2:1:11101:10000:10043\t0\t*\t0\t255\t*\t=\t0\t0\tTTCAC\tAAAAA\tIE:Z:1\n",
      "NB501157:100:H5J5LBGX2:1:11101:10000:10043_TTCAC\t0\t*\t0\t255\t*\t=\t0\t0\tTTCACXTCAGTXTCAGTCGTAGCAGTTCGATG\tAAAAAIEEEEEIEEEEEEEEEEEEEEEEEEEE\tIE:Z:2\n",
      "NB501157:100:H5J5LBGX2:1:11101:10000:10138\t0\t*\t0\t255\t*\t=\t0\t0\tTGGGCAGACACAACGCTACA\tEEEEEEEEEEEEEEEEEEEE\tIE:Z:0\n",
      "NB501157:100:H5J5LBGX2:1:11101:10000:10138\t0\t*\t0\t255\t*\t=\t0\t0\tGCTTC\tAAAAA\tIE:Z:1\n",
      "NB501157:100:H5J5LBGX2:1:11101:10000:10138_GCTTC\t0\t*\t0\t255\t*\t=\t0\t0\tGCTTCXTGGGCXTGGGCAGACACAACGCTACA\tAAAAAIEEEEEIEEEEEEEEEEEEEEEEEEEE\tIE:Z:2\n",
      "NB501157:100:H5J5LBGX2:1:11101:10000:16613\t0\t*\t0\t255\t*\t=\t0\t0\tGACAGACTGATAACCCTTGC\tEEEEEEEEEEEEEEEEEEEE\tIE:Z:0\n",
      "NB501157:100:H5J5LBGX2:1:11101:10000:16613\t0\t*\t0\t255\t*\t=\t0\t0\tGCTTC\tAAAAA\tIE:Z:1\n",
      "NB501157:100:H5J5LBGX2:1:11101:10000:16613_GCTTC\t0\t*\t0\t255\t*\t=\t0\t0\tGCTTCXGACAGXGACAGACTGATAACCCTTGC\tAAAAAIEEEEEIEEEEEEEEEEEEEEEEEEEE\tIE:Z:2\n",
      "NB501157:100:H5J5LBGX2:1:11101:10000:19701\t0\t*\t0\t255\t*\t=\t0\t0\tGATGCACTGCGTTCCATGTT\tEEEEEEEEEEEEEEEEEEEE\tIE:Z:0\n"
     ]
    }
   ],
   "source": [
    "zcat itermae/data/barseq.fastq.gz \\\n",
    "    | parallel --pipe -l 4 -N 1000 \\\n",
    "        itermae --config itermae/data/example_schema.yml \\\n",
    "    | head"
   ]
  },
  {
   "cell_type": "markdown",
   "metadata": {},
   "source": [
    "## Usage <a id=\"usage\" />"
   ]
  },
  {
   "cell_type": "markdown",
   "metadata": {},
   "source": [
    "Here is a simple example that extracts the first 10 bases of the input sequences."
   ]
  },
  {
   "cell_type": "code",
   "execution_count": 45,
   "metadata": {},
   "outputs": [
    {
     "name": "stdout",
     "output_type": "stream",
     "text": [
      "NB501157:100:H5J5LBGX2:1:11101:10000:10043\t0\t*\t0\t255\t*\t=\t0\t0\tTTCACGTCCT\tAAAAAEEEA/\tIE:Z:0\n",
      "NB501157:100:H5J5LBGX2:1:11101:10000:10138\t0\t*\t0\t255\t*\t=\t0\t0\tGCTTCGTCCT\tAAAAAEEEE/\tIE:Z:0\n"
     ]
    }
   ],
   "source": [
    "head -n 8 itermae/data/barseq.fastq | itermae -m \"input > (?P<firstTen>.{10})\" -os \"firstTen\""
   ]
  },
  {
   "cell_type": "markdown",
   "metadata": {},
   "source": [
    "Of course, the tool has many more options with which to configure\n",
    "inputs, outputs, matching, and filtering operations.\n",
    "\n",
    "To show a higher-level example of where we're aiming, \n",
    "here is using `itermae` with a configuration file and `parallel`:"
   ]
  },
  {
   "cell_type": "code",
   "execution_count": 33,
   "metadata": {},
   "outputs": [
    {
     "name": "stdout",
     "output_type": "stream",
     "text": [
      ">NB501157:100:H5J5LBGX2:1:11101:10000:10043_TTCAC\n",
      "TCAGTCGTAGCAGTTCGATG\n",
      ">NB501157:100:H5J5LBGX2:1:11101:10000:10138_GCTTC\n",
      "TGGGCAGACACAACGCTACA\n",
      ">NB501157:100:H5J5LBGX2:1:11101:10000:16613_GCTTC\n",
      "GACAGACTGATAACCCTTGC\n",
      ">NB501157:100:H5J5LBGX2:1:11101:10000:19701_CTACT\n",
      "GATGCACTGCGTTCCATGTT\n",
      ">NB501157:100:H5J5LBGX2:1:11101:10000:5096_TAAGT\n",
      "AGGGCTCGTCGATTCGTCTT\n"
     ]
    }
   ],
   "source": [
    "zcat itermae/data/barseq.fastq.gz \\\n",
    "    | parallel --pipe -l 4 -N 10 -j 1 \\\n",
    "        itermae --config itermae/data/tutorial_example.yml \\\n",
    "    | head"
   ]
  },
  {
   "cell_type": "markdown",
   "metadata": {},
   "source": [
    "but you can also specify configuration using command-line arguments \n",
    "in order to have fewer files:"
   ]
  },
  {
   "cell_type": "code",
   "execution_count": 34,
   "metadata": {},
   "outputs": [
    {
     "name": "stdout",
     "output_type": "stream",
     "text": [
      ">NB501157:100:H5J5LBGX2:1:11101:10000:10043_TTCAC\n",
      "TCAGTCGTAGCAGTTCGATG\n",
      ">NB501157:100:H5J5LBGX2:1:11101:10000:10138_GCTTC\n",
      "TGGGCAGACACAACGCTACA\n",
      ">NB501157:100:H5J5LBGX2:1:11101:10000:16613_GCTTC\n",
      "GACAGACTGATAACCCTTGC\n",
      ">NB501157:100:H5J5LBGX2:1:11101:10000:19701_CTACT\n",
      "GATGCACTGCGTTCCATGTT\n",
      ">NB501157:100:H5J5LBGX2:1:11101:10000:5096_TAAGT\n",
      "AGGGCTCGTCGATTCGTCTT\n"
     ]
    }
   ],
   "source": [
    "zcat itermae/data/barseq.fastq.gz \\\n",
    "    | parallel --pipe -l 4 --quote -N 10 -j 1 \\\n",
    "        itermae -m 'input > (?P<sampleIndex>[ATCGN]{5,5})(?P<prefix>GTCCACGAGGTCTCT){e<=2}(?P<barcode>[ATCGN]{18,22})(?P<untitled_1>CGTACGCTG){i<=1,d<=2,s<=2}' \\\n",
    "            -os 'barcode' -oi 'input.id+\"_\"+sampleIndex.seq' \\\n",
    "            -of 'barcode.length >= 17 and sampleIndex.length >= 3' \\\n",
    "            --output-format fasta \\\n",
    "    | head"
   ]
  },
  {
   "cell_type": "markdown",
   "metadata": {},
   "source": [
    "Below I will discuss what each option is and how to specify it in\n",
    "command-line arguments and yaml"
   ]
  },
  {
   "cell_type": "markdown",
   "metadata": {},
   "source": [
    "### Input options\n",
    "\n",
    "* Input source - where are the input reads coming from?\n",
    "\n",
    "    The default is 'STDIN', which specifies to expect reads to be piped (\"`|`\")\n",
    "    in to the tool. Alternatively you can specify a file path to open.\n",
    "    \n",
    "    Specify with the command-line argument `--input` or `-i`, or set the YAML \n",
    "    key `from:` inside the `input:` block.\n",
    "    \n",
    "    \n",
    "* Is the input gzip compressed?\n",
    "\n",
    "    The default is no. Files specified can be gzipped, but of course the\n",
    "    default 'STDIN' cannot be piped in as compressed (pass through `zcat`).\n",
    "    \n",
    "    Specify with the command-line argument `--gzipped` or `-z`, \n",
    "    or set the YAML key `gzipped:` inside the `input:` block to \n",
    "    `true` or `false`.\n",
    "    \n",
    "    \n",
    "* What format are the input records in?\n",
    "\n",
    "    The default is 'fastq'. This tool also handles:\n",
    "    \n",
    "    - 'FASTA' files, where per-base quality scores are assumed to be the\n",
    "        maximum value.\n",
    "    - 'SAM' files, but all flags are ignored and not included in the \n",
    "        outputs. Similarlly, all alignment information is forgotten.\n",
    "    - 'TXT files, where there is a single sequence per line. This ID of\n",
    "        the record is defined by the sequence, and all qualities are \n",
    "        assumed to be the maximum value.\n",
    "    - Any other format that BioPython SeqIO will recognize.\n",
    "    \n",
    "  All formats specified are case-insensitive.\n",
    "    \n",
    "  Specify with the command-line argument `--input-format`, or set the YAML \n",
    "  key `format:` inside the `input:` block.\n"
   ]
  },
  {
   "cell_type": "markdown",
   "metadata": {},
   "source": [
    "### Matches\n",
    "\n",
    "Matches are the heart of the tool. `itermae` simply uses the `regex` library,\n",
    "and is essentially a utility to arrange `regex` fuzzy expression matches on\n",
    "`Biopython SeqIO` objects such that the groups are handled well and\n",
    "filtered/formatted appropriately for amplicon sequencing analyses.\n",
    "\n",
    "However, exposing this flexibility makes its use complicated. There are two\n",
    "ways of defining it - the YAML method may be simplier if you're not used to\n",
    "regular expressions.\n",
    "\n",
    "- With command-line :\n",
    "\n",
    "  This can be specified on the command-line as one match per each argument\n",
    "  of `-m` or `--match`. This requires that you write a regular expression\n",
    "  such that capture groups are named using the \n",
    "  `(?P<nameOfCaptureGroup>ATCGgroupPatternATCG)` syntax, and can use the\n",
    "  `regex` fuzzy matching denotations such as, for example `{e<=2}` to \n",
    "  permit 2 or fewer errors in the preceeding match group. See examples.\n",
    "  \n",
    "        \n",
    "- With YAML config file:\n",
    "    \n",
    "  Alternatively, the YML configuration mode offers a simpler although more\n",
    "  bulky syntax. Inside a YML configuration file, you specify a dictionary\n",
    "  with the `matches:` top-level key. Inside this, using indented `-`'s,\n",
    "  you specify an array of matches. For each, they need a value behind the\n",
    "  key `use:` to denote what is matched against (by default `input`). These\n",
    "  can groups captured from previous matches. \n",
    "  \n",
    "  Inside each match, \n",
    "  you specify the pattern to match behind the key `pattern:`. This\n",
    "  recognizes IUPAC codes, so `A` is `A`, while `R` matches `A` or `G`.\n",
    "  Additionally `*` matches zero or more of anything, while `+` matches one \n",
    "  or more of anything.\n",
    "  For each character of the pattern, you also need to specify a `marking:`\n",
    "  string specifying what group each character belongs to. This must be the\n",
    "  same length as the `pattern:`, and each different character denotes a \n",
    "  different group.\n",
    "  \n",
    "  Example:\n",
    "  \n",
    "      pattern: NGTCCACGAGGTCTCTNCGTACGCTG\n",
    "      marking: ABBBBBBBBBBBBBBBCDDDDDDDDD\n",
    "\n",
    "  Denotes a pattern of group `A` with any base, group `B` with a specific\n",
    "  sequence, group `C` with any base, and group `D` with a specific sequence.\n",
    "  \n",
    "  The in a key `marked_groups:` you can specify for each of these groups\n",
    "  what the parameters of the match are. Specifically, you can give the\n",
    "  group a `name:` when matched, you can denote that the group must `repeat:`\n",
    "  a certain number of times or a `repeat_min:` and `repeat_max:` number of\n",
    "  times. You can set permissible errors with `allowed_errors:`, or specify\n",
    "  this for specific types of errors - `allowed_insertions:`, \n",
    "  `allowed_deletions:`, `allowed_substitutions:`.\n",
    "  \n",
    "  Here is a full example:\n",
    "  \n",
    "      matches:\n",
    "        - use: input\n",
    "          pattern: NGTCCACGAGGTCTCTNCGTACGCTG\n",
    "          marking: ABBBBBBBBBBBBBBBCDDDDDDDDD\n",
    "          marked_groups:\n",
    "            A:\n",
    "                name: sampleIndex\n",
    "                repeat: 5\n",
    "            B:\n",
    "                name: prefix\n",
    "                allowed_errors: 2\n",
    "            C:\n",
    "                name: barcode\n",
    "                repeat_min: 18\n",
    "                repeat_max: 22\n",
    "            D:\n",
    "                allowed_insertions: 1\n",
    "                allowed_deletions: 2\n",
    "                allowed_substititions: 2\n"
   ]
  },
  {
   "cell_type": "markdown",
   "metadata": {},
   "source": [
    "### Ouput options\n",
    "\n",
    "* Output - where to write successful outputs to?\n",
    "\n",
    "    The default is 'STDIN', which specifies to expect reads to be piped (\"`|`\")\n",
    "    in to the tool. Alternatively you can specify a file path to open.\n",
    "    \n",
    "    Specify with the command-line argument `--input` or `-i`, or set the YAML \n",
    "    key `from:` inside the `input:` block.\n",
    "    \n",
    "    \n",
    "* Is the input gzip compressed?\n",
    "\n",
    "    The default is no. Files specified can be gzipped, but of course the\n",
    "    default 'STDIN' cannot be piped in as compressed (pass through `zcat`).\n",
    "    \n",
    "    Specify with the command-line argument `--gzipped` or `-z`, \n",
    "    or set the YAML key `gzipped:` inside the `input:` block to \n",
    "    `true` or `false`.\n",
    "    \n",
    "    \n",
    "* What format are the input records in?\n",
    "\n",
    "    The default is 'fastq'. This tool also handles:\n",
    "    \n",
    "    - 'FASTA' files, where per-base quality scores are assumed to be the\n",
    "        maximum value.\n",
    "    - 'SAM' files, but all flags are ignored and not included in the \n",
    "        outputs. Similarlly, all alignment information is forgotten.\n",
    "    - 'TXT files, where there is a single sequence per line. This ID of\n",
    "        the record is defined by the sequence, and all qualities are \n",
    "        assumed to be the maximum value.\n",
    "    - Any other format that BioPython SeqIO will recognize.\n",
    "    \n",
    "  All formats specified are case-insensitive.\n",
    "    \n",
    "  Specify with the command-line argument `--input-format`, or set the YAML \n",
    "  key `format:` inside the `input:` block.\n"
   ]
  },
  {
   "cell_type": "markdown",
   "metadata": {},
   "source": [
    "80character ruler\n",
    "         X         X         X         X         X         X         X         X"
   ]
  },
  {
   "cell_type": "markdown",
   "metadata": {},
   "source": [
    "If the operation of output sequence definition is missing, then the program fails and tells you where it has a problem. You can omit the output ID and it will use the input ID by default. Example of failing:"
   ]
  },
  {
   "cell_type": "code",
   "execution_count": null,
   "metadata": {},
   "outputs": [],
   "source": [
    "cat itermae/data/toy.fastq | itermae -o \"input > \" -oseq \"input\" "
   ]
  },
  {
   "cell_type": "markdown",
   "metadata": {},
   "source": [
    "One more thing, I'm going to use the `-of` argument to change the output to FASTA format.\n",
    "While the default is SAM (because it's handy for tabular file operations on the commandline),\n",
    "here FASTA is a little easier to stare at than SAM (FASTA is simpler). For example:"
   ]
  },
  {
   "cell_type": "code",
   "execution_count": null,
   "metadata": {},
   "outputs": [],
   "source": [
    "cat itermae/data/toy.fastq | itermae -o \"input > .\" -oseq \"input\" -of \"fasta\""
   ]
  },
  {
   "cell_type": "markdown",
   "metadata": {},
   "source": [
    "### Operations\n",
    "\n",
    "How to write an operation? Each operation has two parts. \n",
    "There's the part on the left that is what the operation is applied to, the part on the right that is the \n",
    "regular expression to apply, and between these is ` > ` (that is : a space, greater than sign, a space).\n",
    "\n",
    "#### inputs\n",
    "For your first operation, the input has to be `input` because that's the only available sequence, the input sequence of the sequence record. If you use mutiple operations, you can feed groups \"captured\" from previous operations as inputs to later operations (we talk about this later in this guide).\n",
    "\n",
    "#### regular expressions\n",
    "\n",
    "Then there's the regular expression. These are complex, and `itermae` is designed to expose this complexity \n",
    "to the user directly so that you can do more with the tool! Here, I will try to explain a cookbook/copy-paste \n",
    "version that you can use if you're new to regexes and need to trial-and-error the result you want:\n",
    "\n",
    "The pattern you define is matched against the read. So the pattern `.` will match one letter of anything, \n",
    "which is why I used it in the above examples (it always matches!). Putting an `ATCG` will only match when\n",
    "there's exactly a `ATCG` in the read, anywhere in the read, but exactly those four letters in that sequence.\n",
    "If you want to only one character of DNA, you can use `[ATCG]` to match any one of those four letters. \n",
    "*Always use uppercase for `itermae`!* If you want to include `N`, you can do that with `[ATCGN]`. \n",
    "\n",
    "To match two letters, you could write `[ATCGN][ATCGN]`, or more easily `[ATCGN]{2,2}`. \n",
    "The `{}` braces help you specify how many to match. \n",
    "You can specify one number `{2,2}`, or a range `{2,5}`.\n",
    "So for a DNA barcode of length 18-22 bases, you may want to specify `[ATCGN]{18,22}`.\n",
    "\n",
    "`(` `)` parentheses are used to denote groups, like they're used in math. \n",
    "Capture groups use these `()` but also use `?P` and `<>` brackets to name the group. \n",
    "A named capture group uses notation like `(?P<barcode>[ATCGN]{18,22})`, where \n",
    "`(?P<` is the start, `barcode` is the name of the group, and the group is whatever \n",
    "matches to `[ATCGN]{18,22}`, until the `)`. It's complex syntax, but necessary to clearly\n",
    "denote what is the name of the group and what is the group.\n",
    "\n",
    "To match this barcode only when it is between defined sequences, for example priming sites, you can use a more\n",
    "complex pattern like `GGTCTCT(?P<barcode>[ATCGN]{18,22})CGTACGCT`. This matches a sequence where:\n",
    "- There is a `GGTCTCT`\n",
    "- then 18 to 22 bases of either A, T, C, G, or N\n",
    "- then `CGTACGCT`\n",
    "\n",
    "Crucially, it then saves that center 18 to 22 bases as a group named `barcode`.\n",
    "That means you can then only output that group, or you can put it into the output ID, or you can even match\n",
    "other operation patterns against _just that group_.\n",
    "\n",
    "For example (using a `\\` to continue it onto a new line):"
   ]
  },
  {
   "cell_type": "code",
   "execution_count": null,
   "metadata": {},
   "outputs": [],
   "source": [
    "cat itermae/data/toy.fastq \\\n",
    "    | itermae -o \"input > GGTCTCT(?P<barcode>[ATCGN]{18,22})CGTACG\" -oseq \"barcode\" -of \"fasta\""
   ]
  },
  {
   "cell_type": "markdown",
   "metadata": {},
   "source": [
    "This tries to match the pattern on every read, and only where it matches it them writes to the output the matched \n",
    "`barcode` that contains the group of interest. Note that we use `\"input > ` and `-oseq \"barcode\"`. \n",
    "Important!\n",
    "\n",
    "Note that 5 are output."
   ]
  },
  {
   "cell_type": "markdown",
   "metadata": {},
   "source": [
    "#### fuzzy regular expressions\n",
    "\n",
    "However, errors are common in sequencing. Substitutions, whether they come from a mutation, PCR misincorporation,\n",
    "or erroneous basecall can interfere with your ability to use defined sequence to parse your read.\n",
    "Indels are rarer in Illumina sequencing, but any indel early will affect the position of the later sequence.\n",
    "Barcode/amplicon libraries also have size heterogeneity from construction and propogation.\n",
    "\n",
    "To handle this, we can use \"fuzzy\" regular expressions. These are regular expressions, but they're approximate.\n",
    "This can tolerate errors of single-base changes or errors in length. `itermae` uses the `regex` module to do\n",
    "fuzzy regular expression matching. This is an excellent library that provides a new syntax to specify\n",
    "\"fuziness\" of a group.\n",
    "\n",
    "To write the above example in another way, we add after the group the modifier `{e<=1}`. \n",
    "This means that less-than-or-equal to 1 errors of any kind (insertion, deletion, substitution) are tolerated\n",
    "in the previous group.\n",
    "So we can change our operation to `input > (GGTCTCT){e<=1}(?P<barcode>[ATCGN]{18,22})\"`, and this will\n",
    "tolerate one or fewer errors in the `GGTCTCT` just in front of the barcode. Note the parentheses are necessary."
   ]
  },
  {
   "cell_type": "code",
   "execution_count": null,
   "metadata": {},
   "outputs": [],
   "source": [
    "cat itermae/data/toy.fastq \\\n",
    "    | itermae -o \"input > (GGTCTCT){e<=1}(?P<barcode>[ATCGN]{18,22})CGTACG\" -oseq \"barcode\" -of \"fasta\""
   ]
  },
  {
   "cell_type": "markdown",
   "metadata": {},
   "source": [
    "Ah, see there are six that match now. Which one did not match? To demonstrate, I'll name that first\n",
    "group as `fixed` and output that."
   ]
  },
  {
   "cell_type": "code",
   "execution_count": null,
   "metadata": {},
   "outputs": [],
   "source": [
    "cat itermae/data/toy.fastq \\\n",
    "    | itermae -o \"input > (?P<fixed>GGTCTCT){e<=1}(?P<barcode>[ATCGN]{18,22})\" -oseq \"fixed\" -of \"fasta\""
   ]
  },
  {
   "cell_type": "markdown",
   "metadata": {},
   "source": [
    "So there's a `GGTCTAT` in there, the second one. \n",
    "\n",
    "I can also append this group to the input ID, and then have the barcode be\n",
    "the main output sequence again. Note that changing the ID means you have to access attributes like \n",
    "`.id` or `.seq` from each captured group, as they're handled like BioPython SeqRecords internally. \n",
    "And the below also puts a `+'_'+` between them for readability."
   ]
  },
  {
   "cell_type": "code",
   "execution_count": null,
   "metadata": {},
   "outputs": [],
   "source": [
    "cat itermae/data/toy.fastq \\\n",
    "    | itermae -o \"input > (?P<fixed>GGTCTCT){e<=1}(?P<barcode>[ATCGN]{18,22})\" \\\n",
    "        -oseq \"barcode\" -oid \"input.id+'_'+fixed.seq\" -of \"fasta\""
   ]
  },
  {
   "cell_type": "markdown",
   "metadata": {},
   "source": [
    "You can build on this to make it more complex. These particular reads actually have a five base index \n",
    "at the beginning that denotes the sample, so below I'll extract that and append it to the read ID, then output\n",
    "the barcode, while fuzzy matching the priming sites."
   ]
  },
  {
   "cell_type": "code",
   "execution_count": null,
   "metadata": {},
   "outputs": [],
   "source": [
    "cat itermae/data/toy.fastq \\\n",
    "    | itermae \\\n",
    "        -o \"input > (?P<sampleIndex>[ATCGN]{5,5})(GTCCACGAGGTCTCT){e<=2}(?P<barcode>[ATCGN]{18,22})(CGTACGCTG){e<=1}\" \\\n",
    "        -oseq \"barcode\" -oid \"input.id+'_'+sampleIndex.seq\" -of \"fasta\""
   ]
  },
  {
   "cell_type": "markdown",
   "metadata": {},
   "source": [
    "This should get you going, but regular expressions are a powerful and common feature in programming and \n",
    "analysis. For more, I recommend you search for \"python regular expression tutorial\" \n",
    "or the like and read a few articles that talk about this, then consult the `regex` package documentation \n",
    "for more information about those specific modifiers."
   ]
  },
  {
   "cell_type": "markdown",
   "metadata": {},
   "source": [
    "### Filters\n",
    "\n",
    "Note that some barcodes are different sizes. We can also add on filters, so matching here only barcodes \n",
    "that start on base 20 and are exactly 20 bases long \n",
    "(although we can do this in the pattern, here we use a filter)."
   ]
  },
  {
   "cell_type": "code",
   "execution_count": null,
   "metadata": {},
   "outputs": [],
   "source": [
    "cat itermae/data/toy.fastq \\\n",
    "    | itermae \\\n",
    "        -o \"input > (?P<sampleIndex>[ATCGN]{5,5})(GTCCACGAGGTCTCT){e<=2}(?P<barcode>[ATCGN]{18,22})(CGTACGCTG){e<=1}\" \\\n",
    "        -oseq \"barcode\" -oid \"input.id+'_'+sampleIndex.seq\" -of \"fasta\" \\\n",
    "        --filter \"barcode.start == 20 and barcode.length == 20\""
   ]
  },
  {
   "cell_type": "markdown",
   "metadata": {},
   "source": [
    "A more useful example would be filtering on quality. Those are accessible by accessing the\n",
    "`.quality` attribute of the sequence in question. \n",
    "\n",
    "You can also access other attributes of each group using\n",
    "that name (the group name).\n",
    "( Internally, this references an object with attributes of `start`, `end`,\n",
    "`length`, `quality`, and `seq`.)\n",
    "You can use these together in filters. You can't filter on the raw `input`,\n",
    "(or on `dummyspacer` for that matter).\n",
    "See `apply_filter()` function in the `__init__.py` file for details.\n",
    "\n",
    "To make building these easier, the `statistics` package is loaded. \n",
    "So you can do things like filtering on\n",
    "`min(barcode.quality) >= 33` or `statistics.median(barcode.quality) > 34 and barcode.length >= 16`.\n",
    "\n",
    "For debugging, you can print the thing you're filtering and see that spit\n",
    "out. So something like `print(statistics.median(barcode.quality))`\n",
    "(this is using `eval` directly by the way, so be responsible)."
   ]
  },
  {
   "cell_type": "code",
   "execution_count": null,
   "metadata": {},
   "outputs": [],
   "source": [
    "cat itermae/data/toy.fastq \\\n",
    "    | itermae \\\n",
    "        -o \"input > (?P<sampleIndex>[ATCGN]{5,5})(GTCCACGAGGTCTCT){e<=2}(?P<barcode>[ATCGN]{18,22})(CGTACGCTG){e<=1}\" \\\n",
    "        -oseq \"barcode\" -oid \"input.id+'_'+sampleIndex.seq\" -of \"fastq\" \\\n",
    "        --filter \"statistics.median(barcode.quality) >= 34 and min(barcode.quality) < 36\""
   ]
  },
  {
   "cell_type": "markdown",
   "metadata": {},
   "source": [
    "### Output format\n",
    "\n",
    "You can change the output format using `-of` or `--output-format` and the formats SAM, FASTQ, or FASTA. \n",
    "You can then write that to a file by using the `>` operator in the shell."
   ]
  },
  {
   "cell_type": "code",
   "execution_count": null,
   "metadata": {},
   "outputs": [],
   "source": [
    "cat itermae/data/toy.fastq \\\n",
    "    | itermae \\\n",
    "        -o \"input > (?P<sampleIndex>[ATCGN]{5,5})(GTCCACGAGGTCTCT){e<=2}(?P<barcode>[ATCGN]{18,22})(CGTACGCTG){e<=1}\" \\\n",
    "        -oseq \"barcode\" -oid \"input.id+'_'+sampleIndex.seq\" -of \"fastq\" \\\n",
    "        --filter \"statistics.median(barcode.quality) >= 34 and min(barcode.quality) < 36\"\n",
    "    > out.fastq\n",
    "\n",
    "head -n 4 out.fastq\n",
    "rm out.fastq"
   ]
  },
  {
   "cell_type": "markdown",
   "metadata": {},
   "source": [
    "So that's \"usage\". \n",
    "\n",
    "Usually, one can use use the below debugging features to build up multiple operations that parse and filter\n",
    "capture groups, then you can output a SAM file. That can get split based on which sequence is output, what index\n",
    "it has, etc, and then you can cluster/tabulate barcodes with another tool."
   ]
  },
  {
   "cell_type": "markdown",
   "metadata": {},
   "source": [
    "## Debugging\n",
    "\n",
    "A lot of what `itermae` is doing depends on the regular expressions, so it can get a bit complex and debugging\n",
    "effectively is important. One strategy is to take a sample of reads\n",
    "from the middle of the file (or at least not the first ~100,000 of a FASTQ file) and feed in a hundred or so reads\n",
    "at a time to see how it works.\n",
    "\n",
    "To help instrument how the operations you define are working, there's a `--report` feature.\n",
    "This argument specifies a file path where `itermae` will generate a report for each read, reporting if it was\n",
    "successful or not, what the input read was, what filters it passed and where it matched.\n",
    "\n",
    "There's also a `--failed` argument, a path where `itermae` puts the failed reads (for whatever reason)\n",
    "for later inspection.\n",
    "\n",
    "Additionally, there's `-v` or `--verbose` arguments. One outputs information about the run to standard error\n",
    "(so that standard output still works fine for piping output), and additional `-v`'s added on increase the level\n",
    "of reporting to individual reads and individual operations.\n",
    "\n",
    "Here's an example with the first level of verbosity, and outputing a report and failed reads file."
   ]
  },
  {
   "cell_type": "code",
   "execution_count": null,
   "metadata": {},
   "outputs": [],
   "source": [
    "cat itermae/data/toy.fastq | itermae \\\n",
    "        -o \"input > (?P<sampleIndex>[ATCGN]{5,5})(GTCCACGAGGTCTCT){e<=2}(?P<barcode>[ATCGN]{18,22})(CGTACGC){e<=1}\" \\\n",
    "        -oseq \"barcode\" -oid \"input.id+'_'+sampleIndex.seq\" -of \"sam\" \\\n",
    "        --report report.csv --failed failed.fastq -v \\\n",
    "    > out.sam\n",
    "\n",
    "head out.sam\n",
    "rm out.sam\n",
    "\n",
    "echo \"The report:\"\n",
    "head -n 4 report.csv\n",
    "rm report.csv\n",
    "echo\n",
    "echo \"The first of the failed reads:\"\n",
    "head -n 4 failed.fastq\n",
    "rm failed.fastq"
   ]
  },
  {
   "cell_type": "markdown",
   "metadata": {},
   "source": [
    "We see the third record (at fake positions 10002) failed in not being able to for the output.\n",
    "We see the failed read, and see that it's lacking the pattern we're looking for.\n",
    "\n",
    "For the report CSV, the columns are:\n",
    "\n",
    "- passed or not\n",
    "- input ID\n",
    "- input sequence\n",
    "- output sequence, if successful\n",
    "- the result of any filters (later), which here is just True\n",
    "- a string that denotes each group matched, where it starts, ends, and length"
   ]
  },
  {
   "cell_type": "markdown",
   "metadata": {},
   "source": [
    "## Parallel chopping, intended usage\n",
    "\n",
    "### Input/output\n",
    "\n",
    "`itermae` is based on a previous tool, but this implementation has removed any pretense of trying to\n",
    "handle parallelization internally. Instead, this tool just takes a stream of standard in FASTQ and parses it.\n",
    "You can readily parallelize by using the command-line tool GNU `parallel` (yes I'll cite it).\n",
    "This designs limits complexity of code and prevents a certain _fuzzy_ memory leak...\n",
    "\n",
    "However, there is a single-thread ability to read from a file on disk using `--input`, and that can be indicated\n",
    "as being gzipped with the flag `-z`. Similarly, `itermae` is designed to output to standard output, but you can\n",
    "specify an output file with `--output`. \n",
    "\n",
    "Below is an example of using `parallel` to parallelize the above example, \n",
    "of course you'll need that installed and available:"
   ]
  },
  {
   "cell_type": "code",
   "execution_count": null,
   "metadata": {},
   "outputs": [],
   "source": [
    "cat itermae/data/toy.fastq \\\n",
    "    | parallel --pipe -L 4 \\\n",
    "        'itermae -o \"input > (?P<sampleIndex>[ATCGN]{5,5})(GTCCACGAGGTCTCT){e<=2}(?P<barcode>[ATCGN]{18,22})(CGTACGCTG){e<=1}\" \\\n",
    "            -oseq \"barcode\" -oid \"input.id+\\\"_\\\"+sampleIndex.seq\" -of \"fasta\" ' "
   ]
  },
  {
   "cell_type": "markdown",
   "metadata": {},
   "source": [
    "The `--pipe` arguement specifies to pipe the input into `itermae`, and do that in chunks of `-L` size.\n",
    "You will probably want to use a chunk size of 10-100 thousand, but do that in multiples of 4 (since it's a fastq)!\n",
    "So something like `parallel --pipe -L 40000` is what you'd want to use on real data.\n",
    "\n",
    "Then you put the `itermae` command in quotes. Here I've used `'` on the outside. Note that if I need to `\"`\n",
    "something inside an argument building the output sequence, I need to escape that with a `\\`.\n",
    "\n",
    "You can also restrict the jobs to run with arguments like `-j`, so consult the `parallel` manual for more info.\n",
    "I usually leave it to figure things out for me, and it makes full use of the machine."
   ]
  },
  {
   "cell_type": "markdown",
   "metadata": {},
   "source": [
    "## Multiple operations\n",
    "\n",
    "You can add multiple operations. Each sequential operation added on in the command line is executed\n",
    "one after another. This allows you to take one capture group and search within it for more groups.\n",
    "The big advantage of this is speed (less combinatorial complexity of mismatches and degeneracy)\n",
    "and less complicated regular expressions.\n",
    "\n",
    "For example, here's the above example but broken into two operations. The first takes the sample index, the\n",
    "second takes the barcode. Note that I introduce using `*` to mean 0 or more (usually much more) of `[ATCGN]`.\n",
    "Also, I put the `CTCCACGAG` group, with an error `{e<=1}` expression, inside the `rest` capture group."
   ]
  },
  {
   "cell_type": "code",
   "execution_count": null,
   "metadata": {},
   "outputs": [],
   "source": [
    "cat itermae/data/toy.fastq | itermae \\\n",
    "        -o \"input > (?P<sampleIndex>[ATCGN]{5,5})(?P<rest>(GTCCACGAG){e<=1}[ATCGN]*)\" \\\n",
    "        -o \"rest  > (GTCCACGAGGTCTCT){e<=2}(?P<barcode>[ATCGN]{18,22})(CGTACGCTG){e<=1}\" \\\n",
    "        -oseq \"barcode\" -oid \"input.id+\\\"_\\\"+sampleIndex.seq\" -of \"fasta\""
   ]
  },
  {
   "cell_type": "markdown",
   "metadata": {},
   "source": [
    "Note that you can also use multiple outputs. For example, here I'll output the barcode with and without\n",
    "the priming sites around it."
   ]
  },
  {
   "cell_type": "code",
   "execution_count": null,
   "metadata": {},
   "outputs": [],
   "source": [
    "cat itermae/data/toy.fastq | itermae \\\n",
    "        -o \"input > (?P<sampleIndex>[ATCGN]{5,5})(?P<rest>(GTCCACGAG){e<=1}[ATCGN]*)\" \\\n",
    "        -o \"rest  > (?P<upPrime>GTCCACGAGGTCTCT){e<=2}(?P<barcode>[ATCGN]{18,22})(?P<downPrime>CGTACGCTG){e<=1}\" \\\n",
    "        -oseq \"barcode\" -oid \"input.id+\\\"_\\\"+sampleIndex.seq\" \\\n",
    "        -oseq \"upPrime+barcode+downPrime\" -oid \"input.id+\\\"_withFixedFlanking_\\\"+sampleIndex.seq\" \\\n",
    "        -of \"fasta\""
   ]
  },
  {
   "cell_type": "markdown",
   "metadata": {},
   "source": [
    "Doesn't that look nicer? And it runs a bit faster, since you don't use combinations of searching for all\n",
    "possible errors if the from and back parts, especially with complex parsing schemes."
   ]
  }
 ],
 "metadata": {
  "kernelspec": {
   "display_name": "Bash",
   "language": "bash",
   "name": "bash"
  },
  "language_info": {
   "codemirror_mode": "shell",
   "file_extension": ".sh",
   "mimetype": "text/x-sh",
   "name": "bash"
  }
 },
 "nbformat": 4,
 "nbformat_minor": 4
}
